{
 "cells": [
  {
   "cell_type": "code",
   "execution_count": 2,
   "metadata": {
    "collapsed": true
   },
   "outputs": [],
   "source": []
  },
  {
   "cell_type": "markdown",
   "metadata": {},
   "source": [
    "# Introduction\n",
    "\n",
    "Recall the monkey psychophysics experiment from the last tutorial, where a monkey had to discriminate the movement direction of dots for varying degrees of motion coherence. We will now focus on understanding the monkeys' reaction times. In the first part, we'll analyze the data further to see how the reaction time distributions look like. In the second part, we aim to understand these distributions in the framework of the drift diffusion model."
   ]
  },
  {
   "cell_type": "markdown",
   "metadata": {},
   "source": [
    "## Prerequisites\n",
    "\n",
    "- two-alternative forced choice task\n",
    "- Drift Diffusion Model\n",
    "- basic Python skills, including plotting, histograms, some numpy and functions"
   ]
  },
  {
   "cell_type": "markdown",
   "metadata": {},
   "source": [
    "## Objectives\n",
    "\n",
    "- What do reaction time distributions look like?\n",
    "- How do distributions for correct and incorrect trials differ?\n",
    "- How can these properties be understood in terms of the Drift Diffusion Model?\n",
    "- simulate the Drift Diffusion Model"
   ]
  },
  {
   "cell_type": "markdown",
   "metadata": {},
   "source": [
    "# Problem 1: Reaction time distributions in psychophysics data"
   ]
  },
  {
   "cell_type": "markdown",
   "metadata": {},
   "source": [
    "## Load the data\n",
    "\n",
    "As before, the data we will use is in a file called `dots_psychophysics.txt` in the directory `data`. Compared to the last tutorial, the data file contains one additional column, the reaction times, i.e. the now five columns represent:\n",
    "\n",
    "**coherence direction choice correct reactiontime**,\n",
    "\n",
    "where `coherence` is the strength of the stimulus, `direction` is the true direction of the stimulus, `choice` is the choice the monkey made and `correct` specifies whether the answer was correct (and the animal rewarded) and `reaction time` is how long it took the monkey to respond (in ms).\n",
    "\n",
    "Now load the data. "
   ]
  },
  {
   "cell_type": "code",
   "execution_count": 3,
   "metadata": {},
   "outputs": [],
   "source": []
  },
  {
   "cell_type": "code",
   "execution_count": 4,
   "metadata": {},
   "outputs": [],
   "source": []
  },
  {
   "cell_type": "markdown",
   "metadata": {},
   "source": [
    "## Plotting reaction time distributions\n",
    "\n",
    "Let's get a feel for reaction times by plotting histograms as a function of `coherence` and `correct` response.\n",
    "\n",
    "1. Plot the mean reaction time as a function of coherence.\n",
    "2. Plot the above separately for correct and incorrect trials.\n",
    "3. Plot the distribution of reaction times for different coherence. Ideally, plot reaction time for correct and error separately in the same figure, along the positive and negative y-axis, respectively.\n",
    "\n",
    "Useful functions: np.histogram, plt.bar, plt.hist. \n",
    "\n",
    "Hint: Write your own function to plot the reaction time distribution so that we can reuse it later. This function will take three parameters: reaction times for correct, and for incorrect trials, as well as a parameter determining the histogram bins. It will plot histograms for the two distributions along the positive and negative y-axis using the same bins size. Here's an example of what the plot should look like:\n",
    "\n",
    "![example](fig/RT_coh06.png)"
   ]
  },
  {
   "cell_type": "code",
   "execution_count": 4,
   "metadata": {},
   "outputs": [],
   "source": []
  },
  {
   "cell_type": "code",
   "execution_count": 5,
   "metadata": {},
   "outputs": [],
   "source": []
  },
  {
   "cell_type": "code",
   "execution_count": 6,
   "metadata": {
    "collapsed": true
   },
   "outputs": [],
   "source": []
  },
  {
   "cell_type": "code",
   "execution_count": 7,
   "metadata": {
    "scrolled": false
   },
   "outputs": [],
   "source": []
  },
  {
   "cell_type": "markdown",
   "metadata": {},
   "source": [
    "# Problem 2: Drift Diffusion Model (DDM)\n",
    "\n",
    "Now that we have looked at the monkey's raw reaction time and accuracy data from this discrimination task, we can begin to think about how to model this data. As you saw in the lecture before, DDMs predict both RT and choice accuracy data and have been used to model behavior in this sort of sequential discimination task."
   ]
  },
  {
   "cell_type": "markdown",
   "metadata": {},
   "source": [
    "** Short summary of the Drift diffusion model **\n",
    "\n",
    "The Drift Diffusion Model arises from the Sequential Probability Ratio Test in the limit where discretely presented evidence becomes continuously presented evidence. Mathematically, the DDM is given as a stochastic differential equation\n",
    "\n",
    "\\begin{eqnarray}\n",
    "dx = \\mu dt + \\sigma dW,\n",
    "\\end{eqnarray}\n",
    "\n",
    "where\n",
    "$\\mu$ : Drift rate, \n",
    "$\\sigma$ : Noise standard deviation, \n",
    "$dW$ : White Noise.\n",
    "\n",
    "Ignoring the boundary conditions, the distribution of increments of $x$ from time $s$ to time $t$ is a normal distribution $\\mathcal{N}$ with mean $\\mu (t-s)$ and standard deviation $\\sigma \\sqrt{t-s}$, $(s\\leq t)$:\n",
    "\\begin{eqnarray}\n",
    "X_t-X_s \\sim \\mathcal{N}(\\mu (t-s), \\sigma \\sqrt{t-s}).\n",
    "\\end{eqnarray}\n",
    "\n",
    "In discrete time form, the increment of the decision variable $\\Delta x$ after time $\\Delta t$ is\n",
    "\\begin{eqnarray}\n",
    "\\Delta x \\sim \\mathcal{N}(\\mu \\Delta t, \\sigma \\sqrt{\\Delta t}).\n",
    "\\end{eqnarray}\n",
    "\n",
    "Now consider two absorbing boundaries at $\\pm B$. A decision is committed once the decision variable reaches one of the boundaries. In other words, the decision variable is \"absorbed\" by the boundary.\n",
    "\n",
    "*References:*\n",
    "\n",
    "Ratcliff, Roger. \"A theory of memory retrieval.\" Psychological review 85.2 (1978): 59.\n",
    "\n",
    "Bogacz, Rafal, et al. \"The physics of optimal decision making: a formal analysis of models of performance in two-alternative forced-choice tasks.\" Psychological review 113.4 (2006): 700."
   ]
  },
  {
   "cell_type": "markdown",
   "metadata": {},
   "source": [
    "**In this exercise** we'll write a function that simulates RTs and choices using a DDM with constant decision boundaries. We will plot this data, using the function written above, and in doing this we will begin to see how the model generated behavior compares to the monkey RT and choice data. In particular, we will play with some of the parameters of the DDM and look at the effects this has on the simulated data. In order to simulate the data, remember the key equations of the DDM:\n",
    "\n",
    "\\begin{eqnarray}\n",
    "\\Delta x \\sim \\mathcal{N}(\\mu \\Delta t, \\sigma \\sqrt{\\Delta t}).\n",
    "\\end{eqnarray}\n",
    "\n",
    "which describes the incremental change in the decision variable $\\Delta x$ after time $\\Delta t$.\n",
    "\n",
    "Next, we will relax certain conditions of the DDM and see how this affects the simulated behavior. In particular, we will introduce time-varying drift and collapsing decision bounds. \n",
    "\n",
    "Finally, we will look at the analytical DDM and graphically compare its predictions to our simulated RT data."
   ]
  },
  {
   "cell_type": "markdown",
   "metadata": {},
   "source": [
    "## Constant bound DDM simulation\n",
    "\n",
    "### Decision variable trajectory\n",
    "\n",
    "1. Write a function that simulates one trial of the DDM. The function should take parameters $\\mu$, $\\sigma$, and a boundary $B$ as inputs and return the choice, correctness, and reaction time for that trial, as well as the simulated trace of the decision variable (x in the equation above) and the times at which the decision variable was sampled in the simulation.\n",
    "2. Plot the decision variable trajectories for 200 trials in the same figure with the following parameters: $\\mu=1.5 \\cdot 10^{-3}$, $\\sigma=0.05$, $B=1$.\n",
    "3. (Optional) Change the parameters $\\mu, \\sigma$, and observe the change in the decision variable density.\n",
    "\n",
    "Hints: \n",
    "\n",
    "- adjust the alpha value of a plot to show more trajectories\n",
    "- to obtain reproducible results in code that uses random numbers, set the \"random seed\" (np.random.seed) to an integer value of your choice (we used the trial number as seed)"
   ]
  },
  {
   "cell_type": "code",
   "execution_count": 8,
   "metadata": {
    "collapsed": true
   },
   "outputs": [],
   "source": []
  },
  {
   "cell_type": "code",
   "execution_count": 9,
   "metadata": {},
   "outputs": [],
   "source": []
  },
  {
   "cell_type": "markdown",
   "metadata": {},
   "source": [
    "**Expected Output**\n",
    "<img src=\"fig/Sim_DDM_cb_DVtrajectories.png\">"
   ]
  },
  {
   "cell_type": "markdown",
   "metadata": {},
   "source": [
    "### Reaction time distribution\n",
    "\n",
    "1. Simulate the DDM for 5000 trials with $\\mu=0.0015, \\sigma=0.05, B=1$.\n",
    "2. Plot the reaction time distribution, separating correct from error trials.\n",
    "\n",
    "Hint: Use your plotting function from the first exercise!"
   ]
  },
  {
   "cell_type": "code",
   "execution_count": 10,
   "metadata": {},
   "outputs": [],
   "source": []
  },
  {
   "cell_type": "markdown",
   "metadata": {},
   "source": [
    "**Expected Output**\n",
    "<img src=\"fig/Sim_DDM_cb_RTdistributions.png\">"
   ]
  },
  {
   "cell_type": "markdown",
   "metadata": {},
   "source": [
    "## Analytical solution of classical DDM"
   ]
  },
  {
   "cell_type": "markdown",
   "metadata": {},
   "source": [
    "One can obtain an analytic solution for the reaction time distribution of the drift diffusion model, which we provide here. Don't worry about the inner working of the function, just how to use it.\n",
    "\n",
    "*Reference*\n",
    "\n",
    "Anderson, Theodore W. \"A modification of the sequential probability ratio test to reduce the sample size.\" The Annals of Mathematical Statistics (1960): 165-197."
   ]
  },
  {
   "cell_type": "markdown",
   "metadata": {},
   "source": [
    "- import the function 'analytic_ddm' from the ddm module in the 'src' folder.\n",
    "- look at the docstring of the function to see what parameters it takes and what it returns (in the notebook you can append '?' to the function name)"
   ]
  },
  {
   "cell_type": "code",
   "execution_count": 14,
   "metadata": {
    "collapsed": true
   },
   "outputs": [],
   "source": []
  },
  {
   "cell_type": "code",
   "execution_count": 15,
   "metadata": {
    "collapsed": true
   },
   "outputs": [],
   "source": []
  },
  {
   "cell_type": "markdown",
   "metadata": {},
   "source": [
    "## Comparison between analytic and simulated solution\n",
    "\n",
    "1. Compare the analytical solution with simulation results (use 10,000 trials): $\\mu=1e-3, \\sigma=0.05, B=1$.\n",
    "2. Compare the time taken by the simulation and analytical calculation.\n",
    "\n",
    "Hints:\n",
    "\n",
    "- When comparing analytical and simulated RT histograms, make sure the normalizations of the histograms are consistent\n",
    "- Useful function: time.time()"
   ]
  },
  {
   "cell_type": "code",
   "execution_count": 16,
   "metadata": {},
   "outputs": [],
   "source": []
  },
  {
   "cell_type": "markdown",
   "metadata": {},
   "source": [
    "**Expected Output**\n",
    "<img src=\"fig/Cmp_Sim_Ana_cb.png\">"
   ]
  },
  {
   "cell_type": "markdown",
   "metadata": {},
   "source": [
    "# [Small project] Time-varying parameters\n",
    "\n",
    "1. Rewrite your DDM simulation function to allow its parameters $\\mu$, $\\sigma$ and $B$ to be arbitrary functions of time.\n",
    "\n",
    "2. Simulate the DDM for 5000 trials with a time-varying drift $\\mu=1.5\\cdot 10^{-6}\\cdot t$, and  $\\sigma=0.05, B=1$. Plot the RT distribution, separating correct and error trials, and compare their corresponding mean RTs.\n",
    "\n",
    "3. Simulate the DDM for 5000 trials with a collapsing bound $B = 2(1-t/\\tau)$, and $\\tau=2000\\textrm{ms}, \\mu=0.0015$, $\\sigma=0.05$. Plot the RT distribution, separating correct and error trials, and compare their corresponding mean RTs.\n",
    "\n",
    "3. Compare the analytical solution and simulation results, but with linear collaping bounds: $B(t) = 2(1-t/\\tau)$, and $\\tau=2000\\textrm{ms}, \\mu=0.0015$, $\\sigma=0.05$."
   ]
  },
  {
   "cell_type": "code",
   "execution_count": 11,
   "metadata": {
    "collapsed": true
   },
   "outputs": [],
   "source": []
  },
  {
   "cell_type": "code",
   "execution_count": 12,
   "metadata": {},
   "outputs": [],
   "source": []
  },
  {
   "cell_type": "markdown",
   "metadata": {},
   "source": [
    "**Expected Output**\n",
    "<img src=\"fig/Sim_DDM_vb_mu_RTdistribution.png\">"
   ]
  },
  {
   "cell_type": "code",
   "execution_count": 13,
   "metadata": {},
   "outputs": [],
   "source": []
  },
  {
   "cell_type": "markdown",
   "metadata": {},
   "source": [
    "**Expected Output**\n",
    "<img src=\"fig/Sim_DDM_vb_B_RTdistribution.png\">"
   ]
  },
  {
   "cell_type": "code",
   "execution_count": 17,
   "metadata": {},
   "outputs": [],
   "source": []
  },
  {
   "cell_type": "markdown",
   "metadata": {},
   "source": [
    "**Expected Output**\n",
    "<img src=\"fig/Cmp_Sim_Ana_vb.png\">"
   ]
  }
 ],
 "metadata": {
  "anaconda-cloud": {},
  "kernelspec": {
   "display_name": "Python 3 (ipykernel)",
   "language": "python",
   "name": "python3"
  },
  "language_info": {
   "codemirror_mode": {
    "name": "ipython",
    "version": 3
   },
   "file_extension": ".py",
   "mimetype": "text/x-python",
   "name": "python",
   "nbconvert_exporter": "python",
   "pygments_lexer": "ipython3",
   "version": "3.10.9"
  },
  "toc": {
   "colors": {
    "hover_highlight": "#DAA520",
    "running_highlight": "#FF0000",
    "selected_highlight": "#FFD700"
   },
   "moveMenuLeft": true,
   "navigate_menu": false,
   "number_sections": true,
   "sideBar": true,
   "threshold": 4,
   "toc_cell": false,
   "toc_section_display": "block",
   "toc_window_display": true
  }
 },
 "nbformat": 4,
 "nbformat_minor": 1
}
