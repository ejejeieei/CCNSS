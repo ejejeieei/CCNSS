{
 "cells": [
  {
   "cell_type": "markdown",
   "metadata": {},
   "source": [
    "# Simple Arhithmetic\n",
    "- Calculate the following expressions:\n",
    "\n",
    "    - 3/5 + 2\n",
    "    - 3/float(5) + 2\n",
    "    - 3/5. + 2\n",
    "    - $3^2$\n",
    "    - 14 // 5\n",
    "    - $5 \\mod 2$"
   ]
  },
  {
   "cell_type": "code",
   "execution_count": null,
   "metadata": {
    "collapsed": true
   },
   "outputs": [],
   "source": []
  },
  {
   "cell_type": "markdown",
   "metadata": {},
   "source": [
    "# Script\n",
    "\n",
    "- Create a ```.py``` file with the following content and make sure you understand every line. Execute it."
   ]
  },
  {
   "cell_type": "raw",
   "metadata": {},
   "source": [
    "    a = 3 - 4 + 10\n",
    "    b = 5 * 6\n",
    "    c = 7.0/8.0 \n",
    "    print(\"Hello World, these are the values:\" , a , b, c)\n",
    "    print(\"Increment\" , a , \"by one : \" )\n",
    "    a = a + 1\n",
    "    print(a)\n",
    "    print(\"The sum of\" , a , \"and\" , b, \" is \", a+b)\n",
    "    a = ' are '\n",
    "    b = \"You\"\n",
    "    c = \"years old. Isn't that right?\"  \n",
    "    d = b + a\n",
    "    number = raw_input(\"Input a number \") \n",
    "    print(d, number , c)"
   ]
  },
  {
   "cell_type": "markdown",
   "metadata": {},
   "source": [
    "N.B.: sometimes one finds `input` instead of `raw_input`. Please be very careful using `input` because `input(x)` is equivalent to `eval(raw_input(x))`, which implies that\n",
    "- exceptions are raised for non-well-formed Python expressions, and, more ominously,\n",
    "- well formed Python expressions can wreak havoc.  The user could, after all, type a string consisting of the Python expressions to delete all files from an arbitrary directory on the system."
   ]
  },
  {
   "cell_type": "markdown",
   "metadata": {},
   "source": [
    "# Logical expressions"
   ]
  },
  {
   "cell_type": "markdown",
   "metadata": {},
   "source": [
    "- Write a program that asks a user to input a number.  If the number equals \"5\", output \"My lucky number\".  If the number is larger than 10, output \"What a large number!\".  In all other cases, output \"That's not my lucky number.\""
   ]
  },
  {
   "cell_type": "code",
   "execution_count": null,
   "metadata": {
    "collapsed": true
   },
   "outputs": [],
   "source": []
  },
  {
   "cell_type": "markdown",
   "metadata": {},
   "source": [
    "  - Objects can have equal values or can be identical.  A test for   having equal values is ==; a test for being the same object is ```is```.  For example define:\n",
    "\n",
    "\n",
    "    a = 5\n",
    "    b = 5.0\n",
    "    c = a\n",
    "    \n",
    "Try the following:\n",
    "\n",
    "\n",
    "    a == b\n",
    "    a is b\n",
    "    a is c"
   ]
  },
  {
   "cell_type": "code",
   "execution_count": null,
   "metadata": {
    "collapsed": true
   },
   "outputs": [],
   "source": []
  },
  {
   "cell_type": "markdown",
   "metadata": {},
   "source": [
    "# Program flow\n",
    "\n",
    "- Make a variable ```word1 = 'reverse me!'```. Make a for loop that inverts the letter order of ```word1```."
   ]
  },
  {
   "cell_type": "code",
   "execution_count": null,
   "metadata": {
    "collapsed": true
   },
   "outputs": [],
   "source": []
  },
  {
   "cell_type": "markdown",
   "metadata": {},
   "source": [
    "- Find the smallest Fibonacci number which is bigger than 1000000.\n",
    "     Hint: The sequence of Fibonacci numbers $(F_n)$ is defined as: $F_0 = 0$, $F_1=1$ and $F_{n+1}=F_{n-1} + F_n$\n"
   ]
  },
  {
   "cell_type": "code",
   "execution_count": null,
   "metadata": {
    "collapsed": true
   },
   "outputs": [],
   "source": []
  },
  {
   "cell_type": "markdown",
   "metadata": {},
   "source": [
    "- According to the Leibniz formula, $\\pi$ can be approximated by $\\pi_N = 4 \\sum_{n=0}^N \\, \\frac{(-1)^n}{2n+1} .$ Write a for loop which creates a list containing series $\\pi_N$ up to an arbitrary integer $N$. "
   ]
  },
  {
   "cell_type": "code",
   "execution_count": null,
   "metadata": {
    "collapsed": true
   },
   "outputs": [],
   "source": []
  },
  {
   "cell_type": "markdown",
   "metadata": {},
   "source": [
    "- The *Bisection method* is a simple way to numerically solve an equation $f(x)=0$. The input of the algorithm is an interval $[a,b]$, where $f(a)$ and $f(b)$ have different signs, which means that the solution is somewhere is this interval. Then it computes the middle of the interval $c=\\frac{a+b}{2}$. If $f(a)\\cdot f(c) < 0$ set the new interval to $[a,c]$, if $f(c)\\cdot f(b) < 0$ set the new interval to $[c,b]$. Write a while-loop which repeats this bisection untill the error is smaller than a given tolerance, e.g. $b-a < 10^{-7}$.\n",
    "As an example, you could try to solve $\\sin(x)=\\log(x)$. The solution is somewhere between $x=0$ and $x=5$. The functions are available if you execute: from math import sin, log\n"
   ]
  },
  {
   "cell_type": "code",
   "execution_count": 17,
   "metadata": {},
   "outputs": [],
   "source": []
  },
  {
   "cell_type": "markdown",
   "metadata": {},
   "source": [
    "- Implement the Bubble Sort algorithm to sort a list of numbers. Starting from the beginning of the list, compare every adjacent pair, swap their position if they are not in the right order. After each iteration, one less element (the last one) is needed to be compared until there are no more elements left to be compared."
   ]
  },
  {
   "cell_type": "code",
   "execution_count": 18,
   "metadata": {},
   "outputs": [],
   "source": []
  },
  {
   "cell_type": "markdown",
   "metadata": {},
   "source": [
    "# Lists\n",
    "\n",
    "- \"Flatten\" a list of lists. For example: transform [ [a,b,c],[d,e],[f] ] into [ a,b,c,d,e,f ]"
   ]
  },
  {
   "cell_type": "code",
   "execution_count": null,
   "metadata": {
    "collapsed": true
   },
   "outputs": [],
   "source": []
  },
  {
   "cell_type": "markdown",
   "metadata": {},
   "source": [
    "- Use appropriate slices of the string\n",
    "\n",
    "```s = \"Lorem ipsum dolor sit amet, consectetur adipiscing elit.\"\n",
    "```\n",
    "\n",
    "to print 'Lorem ipsum', 'elit', 'Lrmism', and 'muspi meroL'.\n"
   ]
  },
  {
   "cell_type": "code",
   "execution_count": null,
   "metadata": {
    "collapsed": true
   },
   "outputs": [],
   "source": []
  },
  {
   "cell_type": "markdown",
   "metadata": {},
   "source": [
    "# Functions\n",
    "\n",
    "Points may be given in polar $(r,θ)$ or cartesian coordinates $(x,y)$:\n",
    "\n",
    "![carpol](fig/pol2cart.svg)\n",
    "\n",
    "- Write a function ```𝚙𝚘𝚕𝟸𝚌𝚊𝚛𝚝``` that takes a tuple $(𝚛,θ)$ in polar coordinates and returns a tuple in cartesian coordinates.\n",
    "- Write the inverse function ```𝚌𝚊𝚛𝚝𝟸𝚙𝚘𝚕``` such that ```𝚙𝚘𝚕𝟸𝚌𝚊𝚛𝚝(𝚌𝚊𝚛𝚝𝟸𝚙𝚘𝚕((𝚡,𝚢)))``` is $(𝚡,𝚢)$ for any input $(𝚡,𝚢)$.\n",
    "- Extend the two functions, such that they can in addition handle lists of tuples."
   ]
  },
  {
   "cell_type": "code",
   "execution_count": null,
   "metadata": {
    "collapsed": true
   },
   "outputs": [],
   "source": []
  },
  {
   "cell_type": "markdown",
   "metadata": {},
   "source": [
    "# Use of modules\n",
    "\n",
    "- Import the basic math module (import math) to calculate the following simple expressions.\n",
    "    \n",
    "    Hint: Most functions in a module can be called with module.function(params), e.g. math.pow(a,b) for $a^b$.\n",
    "    \n",
    "    - $\\sin(\\pi)$\n",
    "    - $\\cos(\\pi)$\n",
    "    - $e^{10}$\n",
    "    - $2.42^{1.32}$\n"
   ]
  },
  {
   "cell_type": "code",
   "execution_count": null,
   "metadata": {
    "collapsed": true
   },
   "outputs": [],
   "source": []
  },
  {
   "cell_type": "markdown",
   "metadata": {},
   "source": [
    "- Use the cmath module to calculate the following complex numbers\n",
    "\n",
    "    - $\\sqrt{-1}$\n",
    "    - $i^2$\n",
    "    - $\\sin(2i)$"
   ]
  },
  {
   "cell_type": "code",
   "execution_count": null,
   "metadata": {
    "collapsed": true
   },
   "outputs": [],
   "source": []
  },
  {
   "cell_type": "markdown",
   "metadata": {},
   "source": [
    "- Import the random module and print a random number in the range 1...6."
   ]
  },
  {
   "cell_type": "code",
   "execution_count": null,
   "metadata": {
    "collapsed": true
   },
   "outputs": [],
   "source": []
  },
  {
   "cell_type": "markdown",
   "metadata": {},
   "source": [
    "- Import the ```antigravity``` module"
   ]
  },
  {
   "cell_type": "code",
   "execution_count": null,
   "metadata": {
    "collapsed": true
   },
   "outputs": [],
   "source": []
  },
  {
   "cell_type": "markdown",
   "metadata": {},
   "source": [
    "# [Advanced optional exercise] List comprehensions"
   ]
  },
  {
   "cell_type": "markdown",
   "metadata": {},
   "source": [
    "- Create a list $[x_0,x_1,x_2,...]$ where $x_n = 2^n$."
   ]
  },
  {
   "cell_type": "code",
   "execution_count": null,
   "metadata": {
    "collapsed": true
   },
   "outputs": [],
   "source": []
  },
  {
   "cell_type": "markdown",
   "metadata": {},
   "source": [
    "- Create a list containing all numbers between 0 and 100 which are divisible by 3 and 4 but not divisible by 10."
   ]
  },
  {
   "cell_type": "code",
   "execution_count": null,
   "metadata": {
    "collapsed": true
   },
   "outputs": [],
   "source": []
  },
  {
   "cell_type": "markdown",
   "metadata": {},
   "source": [
    "- Create a list $[x_0,x_1,x_2,...]$ where $x_n=\\sum_{i=0}^{n} i$."
   ]
  },
  {
   "cell_type": "code",
   "execution_count": null,
   "metadata": {
    "collapsed": true
   },
   "outputs": [],
   "source": []
  }
 ],
 "metadata": {
  "anaconda-cloud": {},
  "kernelspec": {
   "display_name": "Python 3 (ipykernel)",
   "language": "python",
   "name": "python3"
  },
  "language_info": {
   "codemirror_mode": {
    "name": "ipython",
    "version": 3
   },
   "file_extension": ".py",
   "mimetype": "text/x-python",
   "name": "python",
   "nbconvert_exporter": "python",
   "pygments_lexer": "ipython3",
   "version": "3.10.9"
  },
  "toc": {
   "colors": {
    "hover_highlight": "#DAA520",
    "running_highlight": "#FF0000",
    "selected_highlight": "#FFD700"
   },
   "moveMenuLeft": true,
   "navigate_menu": false,
   "number_sections": true,
   "sideBar": true,
   "threshold": 4,
   "toc_cell": false,
   "toc_section_display": "block",
   "toc_window_display": false
  }
 },
 "nbformat": 4,
 "nbformat_minor": 1
}
