{
 "cells": [
  {
   "cell_type": "markdown",
   "metadata": {},
   "source": [
    "## Recurrence, Depth and High-dimensional data\n",
    "# Python helper notebook"
   ]
  },
  {
   "cell_type": "markdown",
   "metadata": {},
   "source": [
    "In this notebook we present specialized python functions that will be useful for this module, and verify your Keras and Scikit-learn environments.\n",
    "\n",
    "The following elements will be presented:\n",
    "\n",
    "* Functions `zip` and `enumerate`\n",
    "* Looping through elements while excluding elements from another list\n",
    "* Subplots\n",
    "* Mesh grid, scatter and  contour plots\n",
    "* Ploting animations\n",
    "* Passing functions as arguments to functions\n",
    "* Checking Scikit and Keras environments"
   ]
  },
  {
   "cell_type": "markdown",
   "metadata": {},
   "source": [
    "**References:**\n",
    "* [matplotlib](https://matplotlib.org/)\n",
    "* [Keras](https://keras.io/): The Python Deep Learning library\n",
    "* [scikit-learn](http://scikit-learn.org/stable/): Machine Learning in Python"
   ]
  },
  {
   "cell_type": "markdown",
   "metadata": {},
   "source": [
    "*Please execute the cell bellow in order to initialize the notebook environment*"
   ]
  },
  {
   "cell_type": "code",
   "execution_count": null,
   "metadata": {},
   "outputs": [],
   "source": [
    "%autosave 0\n",
    "# %matplotlib inline\n",
    "%matplotlib notebook\n",
    "\n",
    "from __future__ import division, print_function\n",
    "import numpy as np\n",
    "import matplotlib.pyplot as plt\n",
    "import matplotlib.gridspec as gridspec\n",
    "import mod3\n",
    "\n",
    "plt.rcParams.update({'figure.figsize': (5.0, 4.0), 'lines.linewidth': 2.0})"
   ]
  },
  {
   "cell_type": "markdown",
   "metadata": {},
   "source": [
    "## Functions `zip` and `enumerate`"
   ]
  },
  {
   "cell_type": "code",
   "execution_count": null,
   "metadata": {},
   "outputs": [],
   "source": [
    "x0 = [1, 2, 3]\n",
    "x1 = np.array([4, 5, 6])\n",
    "\n",
    "print('Example of zip usage')\n",
    "for item1, item2 in zip(x0, x1):\n",
    "    print(item1, item2)\n",
    "\n",
    "print('\\nExample of enumerate usage')\n",
    "for idx, item in enumerate(x1):\n",
    "    print('index:', idx, 'value:'), item"
   ]
  },
  {
   "cell_type": "markdown",
   "metadata": {},
   "source": [
    "## Looping through elements while excluding elements from another list"
   ]
  },
  {
   "cell_type": "code",
   "execution_count": null,
   "metadata": {},
   "outputs": [],
   "source": [
    "x0 = range(10)\n",
    "x0_exclude = [4, 5, 6, 20]\n",
    "\n",
    "x = [item for item in x0 if item not in x0_exclude]\n",
    "\n",
    "print(x)"
   ]
  },
  {
   "cell_type": "markdown",
   "metadata": {},
   "source": [
    "## Subplots"
   ]
  },
  {
   "cell_type": "code",
   "execution_count": null,
   "metadata": {},
   "outputs": [],
   "source": [
    "x = np.linspace(0, 1, num=200)\n",
    "xi = np.random.randn(x.shape[0])\n",
    "y = np.sin(2*np.pi*x) + xi\n",
    "\n",
    "gs = gridspec.GridSpec(2, 3)\n",
    "\n",
    "plt.figure(figsize=(9, 4))\n",
    "\n",
    "plt.subplot(gs[0])\n",
    "plt.plot(x, y, 'o', alpha=0.8)\n",
    "\n",
    "plt.subplot(gs[0,1:])\n",
    "plt.plot(x, y)\n",
    "\n",
    "plt.subplot(gs[1,:])\n",
    "plt.plot(x, y, 'C1')\n",
    "\n",
    "plt.tight_layout()\n",
    "plt.show()"
   ]
  },
  {
   "cell_type": "markdown",
   "metadata": {},
   "source": [
    "## Mesh grid, scatter and contour plots"
   ]
  },
  {
   "cell_type": "code",
   "execution_count": null,
   "metadata": {},
   "outputs": [],
   "source": [
    "w0_range = (1, 2, 3, 4)\n",
    "w1_range = (5, 6, 7)\n",
    "\n",
    "W0, W1 = np.meshgrid(w0_range, w1_range)\n",
    "\n",
    "for label, data in (('w0_range', w0_range),\n",
    "                    ('w1_range', w1_range),\n",
    "                    ('W0', W0), \n",
    "                    ('W1', W1)):\n",
    "    print(label)\n",
    "    print(data, '\\n')"
   ]
  },
  {
   "cell_type": "code",
   "execution_count": null,
   "metadata": {},
   "outputs": [],
   "source": [
    "gs = gridspec.GridSpec(1, 2)\n",
    "\n",
    "plt.figure(figsize=(9, 4))\n",
    "\n",
    "plt.subplot(gs[0])\n",
    "plt.plot(W0, W1)\n",
    "plt.plot(W0, W1, 'ko')\n",
    "\n",
    "plt.subplot(gs[1])\n",
    "plt.scatter(W0, W1)\n",
    "\n",
    "plt.tight_layout()\n",
    "plt.show()"
   ]
  },
  {
   "cell_type": "code",
   "execution_count": null,
   "metadata": {},
   "outputs": [],
   "source": [
    "w0_range = np.arange(-1, 1, 0.05)\n",
    "\n",
    "W0, W1 = np.meshgrid(w0_range, w0_range)\n",
    "\n",
    "Z = np.sqrt(0.5*W0**2+W1**2)\n",
    "\n",
    "gs = gridspec.GridSpec(1, 2)\n",
    "\n",
    "plt.figure(figsize=(9, 4))\n",
    "\n",
    "plt.subplot(gs[0])\n",
    "plt.contour(W0, W1, Z)\n",
    "plt.colorbar(format='%.1f')\n",
    "\n",
    "plt.xlim((-1, 1))\n",
    "plt.ylim((-1, 1))\n",
    "\n",
    "plt.subplot(gs[1])\n",
    "plt.contourf(W0, W1, Z, cmap=plt.cm.gray)\n",
    "plt.colorbar(format='%.1f')\n",
    "\n",
    "plt.xlim((-1, 1))\n",
    "plt.ylim((-1, 1))\n",
    "\n",
    "plt.tight_layout()\n",
    "plt.show()"
   ]
  },
  {
   "cell_type": "markdown",
   "metadata": {},
   "source": [
    "## Plot animations"
   ]
  },
  {
   "cell_type": "code",
   "execution_count": null,
   "metadata": {},
   "outputs": [],
   "source": [
    "x = np.linspace(0, 1, num=50)\n",
    "xi = 0.1*np.random.randn(x.shape[0])\n",
    "y = np.sin(2*np.pi*x) + xi\n",
    "\n",
    "fig = plt.figure()\n",
    "\n",
    "plt.xlim([-0.1, 1.1])\n",
    "plt.ylim([-2, 2])\n",
    "\n",
    "for datum_x, datum_y in zip(x, y):\n",
    "    plt.plot(datum_x, datum_y, 'C0o', alpha=0.8)\n",
    "    fig.canvas.draw()\n",
    "    \n",
    "plt.tight_layout()\n",
    "plt.show()"
   ]
  },
  {
   "cell_type": "markdown",
   "metadata": {},
   "source": [
    "## Passing functions as arguments to functions"
   ]
  },
  {
   "cell_type": "code",
   "execution_count": null,
   "metadata": {},
   "outputs": [],
   "source": [
    "def nice_plot(x, fn, title=None):\n",
    "    \n",
    "    if title is None:\n",
    "        title='Nice plot'\n",
    "\n",
    "    plt.plot(x, fn(x), alpha=0.8)\n",
    "    plt.title(title)\n",
    "    \n",
    "    return\n",
    "\n",
    "def fn1(x, xi=None):\n",
    "    if xi is None:\n",
    "        xi = 0\n",
    "    return np.sin(2*np.pi*x) + xi\n",
    "\n",
    "x = np.linspace(0, 1, num=200)\n",
    "xi = 0.05*np.random.randn(x.shape[0])\n",
    "\n",
    "fn1_xi = lambda u: fn1(u, xi)\n",
    "\n",
    "gs = gridspec.GridSpec(1, 2)\n",
    "\n",
    "plt.figure(figsize=(9, 4))\n",
    "\n",
    "plt.subplot(gs[0])\n",
    "nice_plot(x, fn1)\n",
    "\n",
    "plt.subplot(gs[1])\n",
    "nice_plot(x, fn1_xi, title='and now with noise')\n",
    "\n",
    "plt.tight_layout()\n",
    "plt.show()"
   ]
  },
  {
   "cell_type": "markdown",
   "metadata": {
    "collapsed": true
   },
   "source": [
    "## Validate your Scikit environment"
   ]
  },
  {
   "cell_type": "markdown",
   "metadata": {},
   "source": [
    "Run the cell below to validate your [scikit-learn](http://scikit-learn.org/stable/) environment. If this package is not installed in your [Anaconda](https://www.continuum.io/Anaconda-Overview) distribution, please execute the following command:\n",
    "\n",
    "`conda install scikit-learn\n",
    "`"
   ]
  },
  {
   "cell_type": "markdown",
   "metadata": {},
   "source": [
    "### Import package"
   ]
  },
  {
   "cell_type": "code",
   "execution_count": null,
   "metadata": {},
   "outputs": [],
   "source": [
    "import sklearn\n",
    "\n",
    "print('Version Scikit-learn', sklearn.__version__)"
   ]
  },
  {
   "cell_type": "markdown",
   "metadata": {},
   "source": [
    "**EXPECTED OUTPUT**\n",
    "```\n",
    "Version Scikit-learn 0.18.x\n",
    "```"
   ]
  },
  {
   "cell_type": "markdown",
   "metadata": {},
   "source": [
    "## Validate your Keras environment"
   ]
  },
  {
   "cell_type": "markdown",
   "metadata": {},
   "source": [
    "Run the cells below to validate your [Keras](https://keras.io) environment and download some necessary data. If this package is not installed in your [Anaconda](https://www.continuum.io/Anaconda-Overview) environment, please execute the following command:\n",
    "\n",
    "`conda install keras`"
   ]
  },
  {
   "cell_type": "markdown",
   "metadata": {},
   "source": [
    "### Import package"
   ]
  },
  {
   "cell_type": "code",
   "execution_count": null,
   "metadata": {},
   "outputs": [],
   "source": [
    "import keras\n",
    "import tensorflow as tf\n",
    "\n",
    "print('Version Keras', keras.__version__)\n",
    "print('Version Tensorflow', tf.__version__)"
   ]
  },
  {
   "cell_type": "markdown",
   "metadata": {},
   "source": [
    "**EXPECTED OUTPUT**\n",
    "```\n",
    "Version Keras 2.x.x\n",
    "Version Tensorflow 1.1.x\n",
    "```"
   ]
  },
  {
   "cell_type": "markdown",
   "metadata": {},
   "source": [
    "### Create a new network model"
   ]
  },
  {
   "cell_type": "code",
   "execution_count": null,
   "metadata": {},
   "outputs": [],
   "source": [
    "from keras.datasets import mnist\n",
    "from keras.layers import Input, Dense\n",
    "from keras.models import Model\n",
    "\n",
    "(x_train, y_train), _ = mnist.load_data()\n",
    "\n",
    "x_train = x_train.astype('float32') / 255.\n",
    "y_train = keras.utils.to_categorical(y_train, 10)\n",
    "\n",
    "input_train = x_train.reshape((len(x_train), np.prod(x_train.shape[1:])))\n",
    "\n",
    "input_img = Input(shape=(784,), name='Input')\n",
    "x = Dense(64, activation='sigmoid', name='Hidden_1')(input_img)\n",
    "output = Dense(10, activation='sigmoid', name='Output')(x)\n",
    "\n",
    "model = Model(input_img, output)\n",
    "model.compile(loss='mean_squared_error', optimizer='sgd', metrics=['accuracy'])\n",
    "model.summary()\n",
    "\n",
    "history = model.fit(input_train, y_train, epochs=1)"
   ]
  },
  {
   "cell_type": "markdown",
   "metadata": {},
   "source": [
    "**EXPECTED OUTPUT**\n",
    "```\n",
    "_________________________________________________________________\n",
    "Layer (type)                 Output Shape              Param #   \n",
    "=================================================================\n",
    "Input (InputLayer)           (None, 784)               0         \n",
    "_________________________________________________________________\n",
    "Hidden_1 (Dense)             (None, 64)                50240     \n",
    "_________________________________________________________________\n",
    "Output (Dense)               (None, 10)                650       \n",
    "=================================================================\n",
    "Total params: 50,890.0\n",
    "Trainable params: 50,890.0\n",
    "Non-trainable params: 0.0\n",
    "_________________________________________________________________\n",
    "Epoch 1/1\n",
    "60000/60000 [==============================] - 4s - loss: 0.1295 - acc: 0.2444     \n",
    "```"
   ]
  },
  {
   "cell_type": "markdown",
   "metadata": {},
   "source": [
    "### Visualizing network architecture graphs"
   ]
  },
  {
   "cell_type": "markdown",
   "metadata": {},
   "source": [
    "Run the cell below to validate the packages supporting graph architecture visualization for Keras. If these packages are not installed in your [Anaconda](https://www.continuum.io/Anaconda-Overview) environment, please execute the following command:\n",
    "\n",
    "`conda install pydot, graphviz`"
   ]
  },
  {
   "cell_type": "code",
   "execution_count": null,
   "metadata": {},
   "outputs": [],
   "source": [
    "# from IPython.display import display, SVG\n",
    "# from keras.utils import plot_model\n",
    "# from keras.utils.vis_utils import model_to_dot\n",
    "\n",
    "# input_img = Input(shape=(784,))\n",
    "# encoded = Dense(8, activation='relu', name='encoded')(input_img)\n",
    "# decoded = Dense(784, activation='sigmoid')(encoded)\n",
    "\n",
    "# autoencoder = Model(input_img, decoded)\n",
    "# autoencoder.compile(optimizer='adadelta', loss='binary_crossentropy')\n",
    "\n",
    "# # save model graph\n",
    "# plot_model(model, to_file='ann_graph_test.png')\n",
    "\n",
    "# # plot model graph\n",
    "# display(SVG(model_to_dot(model).create(prog='dot', format='svg')))"
   ]
  },
  {
   "cell_type": "markdown",
   "metadata": {},
   "source": [
    "**EXPECTED OUTPUT**\n",
    "\n",
    "<img src=\"fig/ann_graph_test.png\" style=\"width:15%;height:15%;display:inline;margin:1px\">"
   ]
  },
  {
   "cell_type": "markdown",
   "metadata": {},
   "source": [
    "### Importing a pre-trained network model (VGG16)"
   ]
  },
  {
   "cell_type": "markdown",
   "metadata": {},
   "source": [
    "This oneliner downloads a pre-trained VGG16 network model and instanciates it. If the download fails, please execute the following command:\n",
    "\n",
    "`rm -rf .keras/models/vgg16_weights*`"
   ]
  },
  {
   "cell_type": "code",
   "execution_count": null,
   "metadata": {
    "collapsed": true
   },
   "outputs": [],
   "source": [
    "# from keras import applications\n",
    "\n",
    "# base_model = applications.VGG16(weights='imagenet', include_top=False, input_shape=(150,150,3))\n",
    "# print('Model loaded.')"
   ]
  }
 ],
 "metadata": {
  "kernelspec": {
   "display_name": "Python 2",
   "language": "python",
   "name": "python2"
  },
  "language_info": {
   "codemirror_mode": {
    "name": "ipython",
    "version": 2
   },
   "file_extension": ".py",
   "mimetype": "text/x-python",
   "name": "python",
   "nbconvert_exporter": "python",
   "pygments_lexer": "ipython2",
   "version": "2.7.13"
  }
 },
 "nbformat": 4,
 "nbformat_minor": 2
}
