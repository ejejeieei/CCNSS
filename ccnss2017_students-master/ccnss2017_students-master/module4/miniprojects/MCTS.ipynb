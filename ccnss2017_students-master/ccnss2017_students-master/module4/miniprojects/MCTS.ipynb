{
 "cells": [
  {
   "cell_type": "markdown",
   "metadata": {},
   "source": [
    "# Tutorial 3\n",
    "\n",
    "## Monte Carlo Tree Search\n",
    "\n",
    "In this mini project we will implement a recently developed planning method called monte carlo tree search. This algorithm combines the strengths of a structured tree search with the exploratory behavior of random \"rollouts\" to focus on promising parts of the state space, and has been particularly successful with perfect information games using a large state space (such as go). Similarly to RL, planning has to balance exploration and exploitation and MCTS employs a number of heuristics to try to do it.\n",
    "\n",
    "\n",
    "\n",
    "As you can see from the pseudocode, the algorithm has three key components: a tree policy (for action selection within the search tree), a default policy (for rollouts outside the search tree), and a backup function for backing up accumulated rewards over the simulated episode. We will first implement an example for each of these, and then put them together into the complete algorithm.\n",
    "\n",
    "A version in the algorithm is summerized in the following pseudocode:\n",
    "\n",
    "<img src=\"mcts_pseudocode.png\",width='500'>\n",
    "\n",
    "\n"
   ]
  },
  {
   "cell_type": "markdown",
   "metadata": {},
   "source": [
    "You can import a generic graph structure with state nodes and action nodes, and implement a set of classes defining corresponding states and actions using the code below, aimed to integrate RL worlds from module 2 (in this case the windy cliff world). State nodes have these state objects as attributes, which in turn have position attribute returning the location in the maze. \n",
    "\n",
    "Action objects have the attribute move, which tell you the direction (0 to 3) corresponding to that action. You can change, and extend the reward function later to better solve the task. Please study the code below and graph.py for more details.\n",
    "\n"
   ]
  },
  {
   "cell_type": "code",
   "execution_count": 13,
   "metadata": {},
   "outputs": [],
   "source": [
    "import numpy as np\n",
    "import RL_worlds\n",
    "from RL_worlds import windy_cliff_grid_2\n",
    "from graph import *\n",
    "import random\n",
    "import utils\n",
    "\n",
    "class MazeAction(object):\n",
    "    def __init__(self, move):\n",
    "        self.move = np.asarray(move)\n",
    "    \n",
    "    def __eq__(self, other):\n",
    "        return self.move == other.move\n",
    "        \n",
    "   \n",
    "class MazeState(object):\n",
    "    def __init__(self, pos):\n",
    "        self.pos = np.asarray(pos)\n",
    "        self.actions = [MazeAction(0),\n",
    "                        MazeAction(1),\n",
    "                        MazeAction(2),\n",
    "                        MazeAction(3)]\n",
    "    \n",
    "    def perform(self, action):\n",
    "        pos,r = wd.get_outcome(self.pos,action.move)\n",
    "        \n",
    "        return MazeState(pos)\n",
    "        \n",
    "    def reward(self, parent, action):\n",
    "         if self.pos in [53,131]:\n",
    "             \n",
    "             return 10000\n",
    "         elif self.pos in [2,3,4,28,42,56,70]:\n",
    "             \n",
    "            return -10000\n",
    "         elif self.pos in rstates[len(rstates)-5:]:#== parent.pos:\n",
    "             \n",
    "             return -200\n",
    "         return -10\n",
    "         \n",
    "        \n",
    "        \n",
    "        \n",
    "    def is_terminal(self):\n",
    "        if (self.pos in [2,3,4, 53,131,28,42,56,70]):\n",
    "           \n",
    "            return True\n",
    "        else:\n",
    "            return False\n",
    "             \n",
    "   "
   ]
  },
  {
   "cell_type": "markdown",
   "metadata": {},
   "source": [
    "Once you created a search tree, you can navigate around it using the following syntax (which we highlight with a list of examples):\n",
    "To see the maze location corresponding to a node: node.state.pos\n",
    "To see the visitation counts: node.n\n",
    "The possible actions from a state node are the children nodes node.children.values()\n",
    "So to see how many times during the rollouts from that particular root you took action 0 in the first step (from the root node): root.children.values()[0].n"
   ]
  },
  {
   "cell_type": "markdown",
   "metadata": {},
   "source": [
    "# Exercise 1\n",
    "\n",
    "\n",
    "Write a function called ucbt to execute the UCB (upper confidence bound) tree poilcy. In particular write a function that takes as input an action-node, and returns the ucb value, $Q(s,a)_{ucb}=Q(s,a)+c * \\sqrt {\\frac{\\log n(s)}{n(s,a)}}$, where n() denotes the number of visitations to the state, or action node. UCB uses optimism in the face of uncertainty, and chooses the action that could potentially be the best, given the remaining uncertainty about its value (specified in terms of the number of previous visitations). In this sense it's a bandit algorithm with Bayesian inspiration.\n",
    "\n",
    "Write a default policy function that performs a k-step random rollout (picking a random action at each step for k steps), but stops if a state is terminal. The function should return the total accumulated discounted reward.\n",
    "\n",
    "Write a backup function, that takes as input the terminal node and adjusts the value of all nodes (state and action) visited in the episode (this just means walking up the search tree). You can assume that the result of the rollout from the terminal node has been stored in node.reward. The rewards for actions taken while in the search tree can either be computed inside the backup function, or stored during the tree traversal during the episode.\n",
    "\n",
    "\n"
   ]
  },
  {
   "cell_type": "markdown",
   "metadata": {},
   "source": [
    "We will now write the core algorithm for MCTS.\n",
    "<img src=\"basic_algorithm.png\",width='600'>\n",
    "\n",
    "We can write three helper functions:\n",
    "\n",
    "best_child should return, given a state node and the tree policy, a successor state when taking the maximum value action.\n",
    "\n",
    "expand should return ,given a state node as input, a successor state after randomly taking one of the untried actions.\n",
    "\n",
    "Finally get_next_node should take as input a state node and the tree policy, and return a successor state node using best_child while inside the search tree (no untried actions), or using expand when reaching a leaf of the search tree (The state node has untried actions.)\n",
    "\n"
   ]
  },
  {
   "cell_type": "code",
   "execution_count": null,
   "metadata": {
    "collapsed": true
   },
   "outputs": [],
   "source": []
  },
  {
   "cell_type": "markdown",
   "metadata": {},
   "source": [
    "These helper functions can then be integrated into a callable Tree search object (MCTS here), where you assign you should input your own tree policy, default policy and backup functions at the time of initialization. utils.rand_max is provided to randomly choose between possible actions of equal value.\n"
   ]
  },
  {
   "cell_type": "code",
   "execution_count": null,
   "metadata": {
    "collapsed": true
   },
   "outputs": [],
   "source": [
    "class MCTS(object):\n",
    "    \n",
    "    def __init__(self, tree_policy, default_policy, backup):\n",
    "        self.tree_policy = tree_policy\n",
    "        self.default_policy = default_policy\n",
    "        self.backup = backup\n",
    "\n",
    "    def __call__(self, root, n=500):\n",
    "       \n",
    "        depth=0\n",
    "        if root.parent is not None:\n",
    "            raise ValueError(\"Root's parent must be None.\")\n",
    "\n",
    "        for _ in range(n):\n",
    "            node = get_next_node(root, self.tree_policy)\n",
    "            node.reward = self.default_policy(node)\n",
    "            self.backup(node,depth)\n",
    "\n",
    "        return utils.rand_max(root.children.values(), key=lambda x: x.q).action\n"
   ]
  },
  {
   "cell_type": "markdown",
   "metadata": {},
   "source": [
    "Run your tree search on the windy cliff world problem. There are many moving parts you can adjust, including the reward structure (though you are not supposed to introduce new location specific rewards), any discounting you introduce, the constant for the UCB algorithm. You can also vary how the backup is performed.\n",
    "\n",
    "Try to tune your algorithm so it can reach one of the gold states from any starting state.\n",
    "\n",
    "AS a reminder, to create a root node using a particular state, you can write \n",
    "root=StateNode(None,MazeState(start_state))\n",
    "\n",
    "to make a real move in the windy cliff world:\n",
    "wd=windy_cliff_grid_2()\n",
    "new_state,rreward=wd.get_outcome(root.state.pos,best_action.move)"
   ]
  },
  {
   "cell_type": "code",
   "execution_count": null,
   "metadata": {
    "collapsed": true
   },
   "outputs": [],
   "source": []
  }
 ],
 "metadata": {
  "kernelspec": {
   "display_name": "Python 2",
   "language": "python",
   "name": "python2"
  },
  "language_info": {
   "codemirror_mode": {
    "name": "ipython",
    "version": 2
   },
   "file_extension": ".py",
   "mimetype": "text/x-python",
   "name": "python",
   "nbconvert_exporter": "python",
   "pygments_lexer": "ipython2",
   "version": "2.7.13"
  },
  "latex_envs": {
   "LaTeX_envs_menu_present": true,
   "autocomplete": true,
   "bibliofile": "biblio.bib",
   "cite_by": "apalike",
   "current_citInitial": 1,
   "eqLabelWithNumbers": true,
   "eqNumInitial": 1,
   "hotkeys": {
    "equation": "Ctrl-E",
    "itemize": "Ctrl-I"
   },
   "labels_anchors": false,
   "latex_user_defs": false,
   "report_style_numbering": false,
   "user_envs_cfg": false
  },
  "widgets": {
   "state": {},
   "version": "1.1.2"
  }
 },
 "nbformat": 4,
 "nbformat_minor": 2
}
