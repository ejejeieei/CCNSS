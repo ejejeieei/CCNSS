{
 "cells": [
  {
   "cell_type": "markdown",
   "metadata": {},
   "source": [
    "# Introduction\n",
    "\n",
    "In this tutorial, we will implement synchronous value iteration and Q-learning adapted to the options framework.\n",
    "\n",
    "To read more details about the options framework before doing these exercises, read the paper by Sutton et al.: http://www.sciencedirect.com/science/article/pii/S0004370299000521"
   ]
  },
  {
   "cell_type": "markdown",
   "metadata": {},
   "source": [
    "# Notebook setup\n",
    "\n",
    "## Instructions\n",
    "\n",
    "- Import numpy, scipy and matplotlib\n",
    "- Configure inline plots\n",
    "- Import helper modules"
   ]
  },
  {
   "cell_type": "code",
   "execution_count": 10,
   "metadata": {
    "collapsed": true
   },
   "outputs": [],
   "source": [
    "% matplotlib inline\n",
    "import numpy as np\n",
    "import matplotlib.pyplot as plt\n",
    "from pylab import *\n",
    "\n",
    "# Import definitions of the environments.\n",
    "import RL_worlds as worlds\n",
    "\n",
    "# Import helper functions for plotting.\n",
    "from plot_util import *"
   ]
  },
  {
   "cell_type": "markdown",
   "metadata": {},
   "source": [
    "# Exercise 1: multi-room grid world\n",
    "\n",
    "1. Implement a 4-room grid world like the one in page 194 of the article. You can do this by extending class *world* from the RL_worlds module. Use only primitive (single-step) options (i.e., simple actions).\n",
    "Tip: you can implement a new class called option to represent options in general, including single-step ones. This class will include an initiation set $I$, a termination condition $\\beta$, and a policy $\\pi$ associated with the option.\n",
    "\n",
    "2. Modify the environment to also include multi-step options that can go from anywhere inside a room into one of that room's two hallways, as described in the paper."
   ]
  },
  {
   "cell_type": "code",
   "execution_count": null,
   "metadata": {
    "collapsed": true
   },
   "outputs": [],
   "source": []
  },
  {
   "cell_type": "markdown",
   "metadata": {},
   "source": [
    "# Exercise 2: SMDP learning\n",
    "\n",
    "1. Implement a learning method for the SMDP using modified Q-learning (page 195).\n",
    "\n",
    "2. Replicate the results shown in the paper, using both multi-step and single-step options (Fig. 5)."
   ]
  },
  {
   "cell_type": "code",
   "execution_count": null,
   "metadata": {
    "collapsed": true
   },
   "outputs": [],
   "source": []
  },
  {
   "cell_type": "markdown",
   "metadata": {},
   "source": [
    "# Exercise 3: SMDP planning\n",
    "\n",
    "1. Implement a planning method for the SMDP using synchronous value iteration (page 191).\n",
    "\n",
    "2. Replicate the results shown in the paper, including the comparison between using multi-step only options vs. including single-step options (Fig. 4)."
   ]
  },
  {
   "cell_type": "code",
   "execution_count": null,
   "metadata": {
    "collapsed": true
   },
   "outputs": [],
   "source": []
  }
 ],
 "metadata": {
  "kernelspec": {
   "display_name": "Python 2",
   "language": "python",
   "name": "python2"
  },
  "language_info": {
   "codemirror_mode": {
    "name": "ipython",
    "version": 2
   },
   "file_extension": ".py",
   "mimetype": "text/x-python",
   "name": "python",
   "nbconvert_exporter": "python",
   "pygments_lexer": "ipython2",
   "version": "2.7.13"
  }
 },
 "nbformat": 4,
 "nbformat_minor": 1
}
