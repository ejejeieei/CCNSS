{
 "cells": [
  {
   "cell_type": "markdown",
   "metadata": {},
   "source": [
    "# Introduction\n",
    "\n",
    "In this tutorial, we will collect data for a 2-armed bandit experiment and then fit a Q-learning model to each subject's data."
   ]
  },
  {
   "cell_type": "markdown",
   "metadata": {},
   "source": [
    "# Notebook setup\n",
    "\n",
    "## Instructions\n",
    "\n",
    "- Import numpy, scipy and matplotlib\n",
    "- Configure inline plots"
   ]
  },
  {
   "cell_type": "code",
   "execution_count": 1,
   "metadata": {
    "collapsed": true
   },
   "outputs": [],
   "source": [
    "% matplotlib inline\n",
    "import csv\n",
    "import numpy as np\n",
    "import matplotlib.pyplot as plt\n",
    "from pylab import *\n",
    "from scipy.optimize import minimize"
   ]
  },
  {
   "cell_type": "markdown",
   "metadata": {},
   "source": [
    "# 2-armed bandit experiment\n",
    "\n",
    "In order to run this experiment, please make sure you have installed PsychoPy. The easiest way is to get the standalone package: http://psychopy.org/installation.html\n",
    "\n",
    "You can generate data for the task using generate_trial_data.py. Then run the experiment code in 2_armed_bandit_experiment.py. You should make sure you understand this code so that you can make your own modifications and improvements.\n",
    "\n",
    "Collect data from at least 5 different subjects. In order to properly fit a learning model, you will need a substantial amount of data per subject (maybe 100 trials)."
   ]
  },
  {
   "cell_type": "markdown",
   "metadata": {},
   "source": [
    "# Fitting the Q-learning model using MLE\n",
    "\n",
    "You will now fit a Q-learning model to each subject's data using maximum likelihood estimation. For each subject, we want to obtain the values of the three free parameters in the model: $\\alpha$ (the learning rate), $\\beta$ (the inverse temperature) and $\\gamma$ (the temporal discount factor).\n",
    "\n",
    "Use the same MLE approach you learned in the Module 1 model fitting tutorial:\n",
    "- Write a function that returns the total negative log-likelihood for any parameter values.\n",
    "- Use an optimization library to numerically find the parameters that minimize the negative log-likelihood (or equivalently, maximize the log-likelihood of the data given the model). Tip: Use the minimize function from the scipy.optimize module.\n",
    "- Plot 3 likelihood heatmaps, first as a function of $\\alpha$ and $\\beta$, then $\\alpha$ and $\\gamma$, then $\\beta$ and $\\gamma$. For each heatmap, keep the value of the third parameter fixed."
   ]
  },
  {
   "cell_type": "code",
   "execution_count": 2,
   "metadata": {
    "collapsed": true
   },
   "outputs": [],
   "source": []
  }
 ],
 "metadata": {
  "kernelspec": {
   "display_name": "Python 2",
   "language": "python",
   "name": "python2"
  },
  "language_info": {
   "codemirror_mode": {
    "name": "ipython",
    "version": 2
   },
   "file_extension": ".py",
   "mimetype": "text/x-python",
   "name": "python",
   "nbconvert_exporter": "python",
   "pygments_lexer": "ipython2",
   "version": "2.7.13"
  }
 },
 "nbformat": 4,
 "nbformat_minor": 1
}
