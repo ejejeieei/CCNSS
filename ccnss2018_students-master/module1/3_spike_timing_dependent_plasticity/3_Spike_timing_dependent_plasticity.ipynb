{
  "nbformat": 4,
  "nbformat_minor": 0,
  "metadata": {
    "colab": {
      "name": "3_Spike timing dependent plasticity",
      "version": "0.3.2",
      "views": {},
      "default_view": {},
      "provenance": [
        {
          "file_id": "1pE0nERUutXNIjCBQIWD_TdlE-mDLhtR1",
          "timestamp": 1530232722659
        }
      ],
      "collapsed_sections": []
    }
  },
  "cells": [
    {
      "metadata": {
        "id": "-zdsDF4BnGkn",
        "colab_type": "text"
      },
      "cell_type": "markdown",
      "source": [
        "## CCNSS 2018 Module 1: Neurons, synapses and networks\n",
        "# Tutorial 3: Spike timing dependent plasticity\n",
        "[source](https://colab.research.google.com/drive/1pE0nERUutXNIjCBQIWD_TdlE-mDLhtR1)\n",
        "\n",
        "Please execute the cell below to initialise the notebook environment."
      ]
    },
    {
      "metadata": {
        "id": "LT7c_-mjnChD",
        "colab_type": "code",
        "colab": {
          "autoexec": {
            "startup": false,
            "wait_interval": 0
          },
          "base_uri": "https://localhost:8080/",
          "height": 34
        },
        "outputId": "42f429fe-05f5-493a-9ecb-e3400074ef66",
        "executionInfo": {
          "status": "ok",
          "timestamp": 1530159372362,
          "user_tz": -480,
          "elapsed": 748,
          "user": {
            "displayName": "Alex Cayco Gajic",
            "photoUrl": "https://lh3.googleusercontent.com/a/default-user=s128",
            "userId": "114299333997536305257"
          }
        }
      },
      "cell_type": "code",
      "source": [
        "%autosave 0\n",
        "\n",
        "import matplotlib.pyplot as plt    # import matplotlib\n",
        "import numpy as np                 # import numpy\n",
        "import random                      # import basic random number generator functions\n",
        "\n",
        "fig_w, fig_h = (6, 4)\n",
        "plt.rcParams.update({'figure.figsize': (fig_w, fig_h)})"
      ],
      "execution_count": 0,
      "outputs": [
        {
          "output_type": "display_data",
          "data": {
            "application/javascript": [
              "IPython.notebook.set_autosave_interval(0)"
            ]
          },
          "metadata": {
            "tags": []
          }
        },
        {
          "output_type": "stream",
          "text": [
            "Autosave disabled\n"
          ],
          "name": "stdout"
        }
      ]
    },
    {
      "metadata": {
        "id": "Qa2B4xPrnQyb",
        "colab_type": "text"
      },
      "cell_type": "markdown",
      "source": [
        "##Objectives\n",
        "In your first (pre-course) tutorial, you implemented a LIF spiking neuron with a noisy input current. In this notebook we extend that model to implement spike timing dependent plasticity.\n",
        "\n",
        "**Background paper:**  \n",
        "- Song S, Miller K and Abott L (2000) Competitive Hebbian learning\n",
        "through spike-timing-dependent synaptic plasticity. Nature Neurosci 3. \n",
        "\n",
        "**Extra reading:**  \n",
        "- Sjostrom J and Gerstner W (2010) Spike-timing dependent plasticity. Scholarpedia: http://www.scholarpedia.org/article/Spike-timing_dependent_plasticity\n"
      ]
    },
    {
      "metadata": {
        "id": "M_fvGmlgpIDB",
        "colab_type": "text"
      },
      "cell_type": "markdown",
      "source": [
        "## Conductance based LIF model\n",
        "\n",
        "We will extend the leaky integrate and fire model by adding synaptic conductances and Poisson inputs. The postsynaptic membrane potential is given by:\n",
        "\n",
        "\\begin{align}\n",
        "&\\tau\\,\\frac{dV}{dt}\\ = E_{L} - V(t) + g_{ex}(t)(E_{ex}-V(t)) &\\text{if }\\quad V(t) \\leq V_{th}\\\\\n",
        "&V(t) = V_{r} &\\text{otherwise}\\\\\n",
        "\\end{align}\n",
        "\n",
        "These equations should look familiar (from the LIF neuron assignment). The only difference is that the synaptic input has now been replaced by an excitatory synaptic conductance, which is given by the following decaying exponential:\n",
        "\n",
        "$$\\tau_{syn} \\frac{dg_{ex}}{dt} = -g_{ex} $$\n",
        "\n",
        "When a spike occurs at presynaptic synapse $i$, the conductance will be updated as:\n",
        "\n",
        "$$ g_{ex}(t) = g_{ex}(t) + \\bar g_{max}$$\n",
        "\n",
        "The variable $\\bar g_{max}$ represents the peak amplitude for a unitary spike input. We will later modify this variable to we implement synaptic plasticity."
      ]
    },
    {
      "metadata": {
        "id": "rJkLznt223IB",
        "colab_type": "text"
      },
      "cell_type": "markdown",
      "source": [
        "First, execute the cell below to set the simulation parameters."
      ]
    },
    {
      "metadata": {
        "id": "F0o0jaVCzlXF",
        "colab_type": "code",
        "colab": {
          "autoexec": {
            "startup": false,
            "wait_interval": 0
          }
        }
      },
      "cell_type": "code",
      "source": [
        "t_max = 150e-3   # second\n",
        "dt = 1e-3        # second\n",
        "tau = 20e-3      # second\n",
        "el = -60e-3      # volt\n",
        "e_ex = 0         # volt\n",
        "vr = -70e-3      # volt\n",
        "vth = -50e-3     # volt\n",
        "tau_syn = 5e-3    # second \n",
        "gbar_max = 0.015"
      ],
      "execution_count": 0,
      "outputs": []
    },
    {
      "metadata": {
        "id": "5E96OJCjpS5r",
        "colab_type": "text"
      },
      "cell_type": "markdown",
      "source": [
        "**Exercise 1:** Fill in the following function  to generate Poisson distributed spike times for arbitrary firing rate $r$. Poisson spike times can be approximated by setting the probability of a spike occurring in a short time bin $\\Delta t$ as the product of the firing rate and the time window $r \\Delta t$ (for small $\\Delta t$). Check your function by generating Poisson spike times for n=2000 \"neurons\" at 10 Hz each. Calculate the average firing rate across all neurons, and then plot a histogram of the firing rates over the neurons.\n",
        "\n",
        "* **Note:** In the function `generate_Poisson_spikes`, initialise the presynaptic spike train using `np.zeros((n,len(t)), dtype=np.int)` to speed up the code."
      ]
    },
    {
      "metadata": {
        "id": "inceVwHRwk8P",
        "colab_type": "code",
        "colab": {
          "autoexec": {
            "startup": false,
            "wait_interval": 0
          }
        }
      },
      "cell_type": "code",
      "source": [
        "random.seed(0)\n",
        "\n",
        "def generate_Poisson_spikes(t,rate,n):\n",
        "    \"\"\" Generates poisson spike trains\n",
        "    \n",
        "    Arguments:\n",
        "    t -- time\n",
        "    rate -- firing rate (Hz)\n",
        "    n -- number of spike trains\n",
        "  \n",
        "    Returns:\n",
        "    pre_spike_train -- spike train matrix, ith row represents whether \n",
        "                       there is a spike in ith spike train over time\n",
        "                       (1 if spike, 0 otherwise)\n",
        "    \"\"\"\n",
        "    # insert your code here\n",
        "    return pre_spike_train\n",
        "\n",
        "# insert your code here"
      ],
      "execution_count": 0,
      "outputs": []
    },
    {
      "metadata": {
        "id": "jhYjLfaTrX9J",
        "colab_type": "text"
      },
      "cell_type": "markdown",
      "source": [
        "\n",
        "**EXPECTED OUTPUT**\n",
        "```\n",
        "10.096666666666668\n",
        "```\n",
        "\n",
        "![](https://github.com/ccnss/ccnss2018_students/raw/master/module1/figures/T2E1.png)"
      ]
    },
    {
      "metadata": {
        "id": "j1Hp1UCwR3_3",
        "colab_type": "text"
      },
      "cell_type": "markdown",
      "source": [
        "**Exercise 2:** Fill in the function below to simulate the conductance based LIF model for a given set of presynaptic spike time inputs. To do this, you will need to discretise both $V(t)$ and $g_{ex}(t)$. This is equivalent to:\n",
        "\\begin{align}\n",
        "&V[k+1] = V[k] + \\frac{dt}{\\tau} \\left(E_L - V[k] + g_{ex}[k](E_{ex}-V[k])\\right)\\\\\n",
        "&g_{ex}[k+1] = g_{ex}[k] -\\frac{dt}{\\tau_{syn}} g_{ex}[k]\n",
        "\\end{align}\n",
        "Don't forget to reset $V(t)\\to V_r$ once it reaches threshold $V_{th}$, and set $g_{ex}(t) \\to g_{ex}(t)+\\bar g_{max}$ at every timepoint where there is a presynpatic spike. Then, simulate the model for 300 excitatory inputs, each firing at 10 Hz. Plot $V(t)$ and $g_{ex}(t)$, as well as the number of presynaptic spikes at each time point. Note that the latter two plots should be correlated."
      ]
    },
    {
      "metadata": {
        "id": "mXtqNpGHyHEZ",
        "colab_type": "code",
        "colab": {
          "autoexec": {
            "startup": false,
            "wait_interval": 0
          }
        }
      },
      "cell_type": "code",
      "source": [
        "random.seed(0)\n",
        "\n",
        "def simulate_postsynaptic_neuron(t,pre_spike_train):\n",
        "    \"\"\" Simulate nonplastic postsynaptic neuron\n",
        "  \n",
        "    Arguments:\n",
        "    t -- time\n",
        "    pre_spike_train -- presynaptic spike train matrix, same length as t\n",
        "  \n",
        "    Returns:\n",
        "    g_ex -- excitatory conductance\n",
        "    v -- membrane potential\n",
        "    \"\"\"\n",
        "    \n",
        "    # insert your code here\n",
        "    return g_ex,v\n",
        "  \n",
        "# insert your code here"
      ],
      "execution_count": 0,
      "outputs": []
    },
    {
      "metadata": {
        "id": "cT1eoLXSyqfG",
        "colab_type": "text"
      },
      "cell_type": "markdown",
      "source": [
        "**EXPECTED OUTPUT**\n",
        "\n",
        "![](https://github.com/ccnss/ccnss2018_students/raw/master/module1/figures/T2E2.png)"
      ]
    },
    {
      "metadata": {
        "id": "hAHK9vQC0L_3",
        "colab_type": "text"
      },
      "cell_type": "markdown",
      "source": [
        "## Spike timing dependent plasticity\n",
        "\n",
        "Now we will incorporate STDP into the conductance based model. Models of STDP generally have a biphasic exponential decaying function. This means the change in weights is given by:\n",
        "\n",
        "\\begin{align}\n",
        "& \\Delta W = A_+ e^{ (t_{pre}-t_{post})/\\tau_+}  \\hspace{10mm} \\text{if} \\hspace{5mm}  t_{post} > t_{pre}\\\\\n",
        "& \\Delta W =  -A_- e^{- (t_{pre}-t_{post})/\\tau_-}   \\hspace{7mm} \\text{if} \\hspace{5mm} t_{post} < t_{pre}\n",
        "\\end{align}\n",
        "\n",
        "This model captures potentiation when the presynaptic spike time occurs before the postsynaptic spike time, and depression if it occurs after. The parameters $A_+$ and $A_-$ determine the magnitude of LTP and LTD, and $\\tau_{+}$ and $\\tau{-}$ determine the temporal window.\n"
      ]
    },
    {
      "metadata": {
        "id": "5mtSJmSJ815g",
        "colab_type": "text"
      },
      "cell_type": "markdown",
      "source": [
        "Execute the following code to set the STDP parameters and plot the STDP function. For simplicity, we assume $\\tau_{+} = \\tau_{-} = \\tau_{stdp}$."
      ]
    },
    {
      "metadata": {
        "id": "2lfYzvmg0TgS",
        "colab_type": "code",
        "colab": {
          "autoexec": {
            "startup": false,
            "wait_interval": 0
          },
          "base_uri": "https://localhost:8080/",
          "height": 283
        },
        "outputId": "306691f1-972d-4dbc-98e3-bbf62305078f",
        "executionInfo": {
          "status": "ok",
          "timestamp": 1530159389956,
          "user_tz": -480,
          "elapsed": 909,
          "user": {
            "displayName": "Alex Cayco Gajic",
            "photoUrl": "https://lh3.googleusercontent.com/a/default-user=s128",
            "userId": "114299333997536305257"
          }
        }
      },
      "cell_type": "code",
      "source": [
        "tau_stdp = 20e-3       # second\n",
        "A_plus = 5e-3  \n",
        "A_minus = A_plus*1.10\n",
        "\n",
        "\n",
        "# Plot STDP function\n",
        "time_diff = np.linspace(-5*tau_stdp,5*tau_stdp,50)\n",
        "plt.figure()\n",
        "plt.plot([-5*tau_stdp,5*tau_stdp],[0,0],'k',linestyle=':')\n",
        "plt.plot([0,0],[-A_minus,A_plus],'k',linestyle=':')\n",
        "\n",
        "for t in range(len(time_diff)):\n",
        "  if time_diff[t] < 0:\n",
        "    plt.plot(time_diff[t],A_plus*np.exp(time_diff[t]/tau_stdp),'C0o')\n",
        "  else:\n",
        "    plt.plot(time_diff[t],-A_minus*np.exp(-time_diff[t]/tau_stdp),'C0o')\n",
        "\n",
        "plt.xlabel('pre spike time - post spike time',fontsize=15)\n",
        "plt.ylabel('change in synaptic weight',fontsize=15)\n",
        "plt.show()"
      ],
      "execution_count": 0,
      "outputs": [
        {
          "output_type": "display_data",
          "data": {
            "image/png": "[encoded data removed]",
            "text/plain": [
              "<matplotlib.figure.Figure at 0x7f8f9c7e69d0>"
            ]
          },
          "metadata": {
            "tags": []
          }
        }
      ]
    },
    {
      "metadata": {
        "id": "ry4PJJV1IZWM",
        "colab_type": "text"
      },
      "cell_type": "markdown",
      "source": [
        "## Keeping track of pre and postsynaptic spikes\n",
        "In order to implement STDP, we first have to keep track of the pre and post synaptic spike times throughout our simulation. A simple way to do this is to define the following equation:\n",
        "$$\\tau_{-} \\frac{dM}{dt} = -M$$\n",
        "Whenever the postsynaptic neuron spikes, \n",
        "$$M(t) = M(t) - A_{-}$$\n",
        "Then, $M(t)$ tracks the number of postsynaptic spikes over the timescale $\\tau_{-}$. Similarly for each presynaptic spike,\n",
        "$$\\tau_{+} \\frac{dP_i}{dt} = -P_i$$\n",
        "Whenever the $i$th presynaptic neuron spikes,\n",
        "$$P(t) = P(t) + A_{+}$$\n",
        "The variables $M(t)$ and $P_i(t)$ are very similar to the equations for the synaptic conductances $g_i(t)$, except that they are used to keep track of pre and postsynaptic spike times on a much longer timescale. Note that $M(t)$ is always negative and $P_i(t)$ is always positive.  You can probably already guess that $M$ is used for LTD and $P_i$ for LTP because they are updated by $A_{minus}$ and $A_{plus}$, respectively. But since the equation for $P_i$ only depends on the presynaptic spike times, we wiill generate $P_i(t)$ before simulating the postsynaptic neuron and STDP."
      ]
    },
    {
      "metadata": {
        "id": "_j0WSPeKZx8j",
        "colab_type": "text"
      },
      "cell_type": "markdown",
      "source": [
        "**Exercise 3:** Fill in the following function to generate P from the presynaptic spike train. Test that this function works by simulating 5 inputs spiking at 10 Hz each, and plot both the spike times and $P_i(t)$. "
      ]
    },
    {
      "metadata": {
        "id": "r5h1nHoMjH26",
        "colab_type": "code",
        "colab": {
          "autoexec": {
            "startup": false,
            "wait_interval": 0
          }
        }
      },
      "cell_type": "code",
      "source": [
        "random.seed(0)\n",
        "\n",
        "def generate_P(t,pre_spike_train):\n",
        "  \"\"\" Generate P to track presynaptic spikes\n",
        "  \n",
        "  Arguments:\n",
        "  t -- time\n",
        "  pre_spike_train -- presynaptic spike train matrix, same length as t\n",
        "  \n",
        "  Returns:\n",
        "  P -- matrix, ith row is P for the ith presynaptic input \n",
        "  \"\"\"\n",
        "  # insert your code here\n",
        "  return P\n",
        "\n",
        "# insert your code here"
      ],
      "execution_count": 0,
      "outputs": []
    },
    {
      "metadata": {
        "id": "okLVYJduzDIg",
        "colab_type": "text"
      },
      "cell_type": "markdown",
      "source": [
        "**EXPECTED OUTPUT**\n",
        "\n",
        "![](https://github.com/ccnss/ccnss2018_students/raw/master/module1/figures/T2E3.png)"
      ]
    },
    {
      "metadata": {
        "id": "2yFhH3O9JFAE",
        "colab_type": "text"
      },
      "cell_type": "markdown",
      "source": [
        "## Implementation of STDP\n",
        "\n",
        "Finally, to implement STDP in spiking networks, we will change the value of the peak synaptic conductance based on the pre and post synaptic timing. Previously, we set the peak synaptic conductance to $\\bar g_{max}$. Now, each synapse $i$ will have its own peak synaptic conductance $\\bar g_i$, which will vary between $[0, \\bar g_{max}]$, and will be modified depending on the pre and post synaptic timing. If presynaptic neuron $i$ spikes, its corresponding peak conductance is updated to:\n",
        "$$\\bar g_i = \\bar g_i + M(t)\\bar g_{max} $$\n",
        "Note that $M(t)$ tracks the time since the last postsynaptic potential and is negative. So if the postsynaptic neuron spikes shortly before the presynaptic neuron, the above equation means that the peak conductance will decrease. On the other hand, if the postsynaptic neuron spikes, all conductances are updated according to:\n",
        "$$\\bar g_i = \\bar g_i + P_i(t)\\bar g_{max} $$\n",
        "Again, $P_i(t)$ tracks the time since presynaptic neuron $i$ last spiked, and is positive. So this equation means that if the presynaptic neuron spikes before the postsynaptic neuron, its peak conductance will increase."
      ]
    },
    {
      "metadata": {
        "id": "WhIxCfAVgRut",
        "colab_type": "text"
      },
      "cell_type": "markdown",
      "source": [
        "**Exercise 4:** Fill in the following code to implement STDP, by modifying the code from Exercise 2 and calling the ``generate_P``. Make sure that $\\bar g_i$ never goes outside of its bounds. Check that this works by the simulating plastic postsynaptic neuron with 300 inputs firing at 10 Hz each. Plot $v(t)$, $M(t)$, $P_i(t)$, $\\bar g_i(t)$, and $g_{ex}(t)$.\n"
      ]
    },
    {
      "metadata": {
        "id": "OFMURrFL6a-Q",
        "colab_type": "code",
        "colab": {
          "autoexec": {
            "startup": false,
            "wait_interval": 0
          }
        }
      },
      "cell_type": "code",
      "source": [
        "random.seed(0)\n",
        "\n",
        "def simulate_postsynaptic_neuron_plastic(t,pre_spike_train):\n",
        "    \"\"\"Simulate a plastic neuron\n",
        "    \n",
        "    Arguments:\n",
        "    t -- time\n",
        "    pre_spike_train -- presynaptic spike train matrix, same length as t\n",
        "  \n",
        "    Returns:\n",
        "    g_ex -- excitatory conductance\n",
        "    gbar -- matrix, ith row is peak excitatory conductance \n",
        "            over time for ith presynaptic neuron\n",
        "    P -- matrix, keeps track of presynaptic spikes\n",
        "    M -- vector, keeps track of postsynaptic spikes\n",
        "    v -- membrane potential\n",
        "    \"\"\"\n",
        "    # insert your code here\n",
        "    return g_ex,gbar,P,M,v\n",
        "\n",
        "# insert your code here"
      ],
      "execution_count": 0,
      "outputs": []
    },
    {
      "metadata": {
        "id": "PkWAW9Nh1ApB",
        "colab_type": "text"
      },
      "cell_type": "markdown",
      "source": [
        "**EXPECTED OUTPUT**\n",
        "\n",
        "![](https://github.com/ccnss/ccnss2018_students/raw/master/module1/figures/T2E4.png)"
      ]
    },
    {
      "metadata": {
        "id": "M6J4V1rjx4Ik",
        "colab_type": "text"
      },
      "cell_type": "markdown",
      "source": [
        "**Exercise 5:** Execute the following cell to increase the presynaptic firing rate to 20 Hz and simulate the plastic postsynaptic neuron for 200s. This will take several minutes so this is a good time to take a short break. "
      ]
    },
    {
      "metadata": {
        "id": "q7JZ_u5OPQ5m",
        "colab_type": "code",
        "colab": {
          "autoexec": {
            "startup": false,
            "wait_interval": 0
          }
        }
      },
      "cell_type": "code",
      "source": [
        "random.seed(0)\n",
        "\n",
        "t_max = 200; dt = 1e-3 \n",
        "t = np.arange(0, t_max, dt)\n",
        "\n",
        "rate = 20; n = 300; \n",
        "pre_spike_train = generate_Poisson_spikes(t,rate,n)\n",
        "g_ex,gbar,P,M,v = simulate_postsynaptic_neuron_plastic(t,pre_spike_train)\n"
      ],
      "execution_count": 0,
      "outputs": []
    },
    {
      "metadata": {
        "id": "sK3CcLQvlh1n",
        "colab_type": "text"
      },
      "cell_type": "markdown",
      "source": [
        "Fill in the cell below to normalize $\\bar g(t)$ by its maximum value and plot the trajectories for all presynaptic neurons (to better visualize all the traces, use `linewidth=.2`). Plot a histogram of the peak weights (as a fraction of $\\bar g_{max}$) at the beginning of the STDP protocol, as well as halfway through, 2/3 of the way through, 3/4 of the way through, and at end. Is the system at steady state? "
      ]
    },
    {
      "metadata": {
        "id": "JhaP426Glqmo",
        "colab_type": "code",
        "colab": {
          "autoexec": {
            "startup": false,
            "wait_interval": 0
          }
        }
      },
      "cell_type": "code",
      "source": [
        "# insert your code here"
      ],
      "execution_count": 0,
      "outputs": []
    },
    {
      "metadata": {
        "id": "Ur7LyS-vm5KE",
        "colab_type": "text"
      },
      "cell_type": "markdown",
      "source": [
        "**EXPECTED OUTPUT**\n",
        "\n",
        "![](https://github.com/ccnss/ccnss2018_students/raw/master/module1/figures/T2E5a.png)\n",
        "![](https://github.com/ccnss/ccnss2018_students/raw/master/module1/figures/T2E5b.png)\n",
        "\n"
      ]
    },
    {
      "metadata": {
        "id": "QWHjfa2Tzr82",
        "colab_type": "text"
      },
      "cell_type": "markdown",
      "source": [
        "**Exercise 6:** Run the following cell to repeat the previous exercise, but now we will introduce a subset of correlated inputs by setting the first 10 presynaptic neurons to have the same spike times."
      ]
    },
    {
      "metadata": {
        "id": "3pSOdyE1P4Yh",
        "colab_type": "code",
        "colab": {
          "autoexec": {
            "startup": false,
            "wait_interval": 0
          }
        }
      },
      "cell_type": "code",
      "source": [
        "random.seed(0)\n",
        "\n",
        "t_max = 200; dt = 1e-3 \n",
        "t = np.arange(0, t_max, dt)\n",
        "\n",
        "rate = 20; n = 300; \n",
        "pre_spike_train = generate_Poisson_spikes(t,rate,n)\n",
        "\n",
        "for k in range(50):\n",
        "  pre_spike_train[k,:] = pre_spike_train[0,:]\n",
        "\n",
        "g_ex,gbar,P,M,v = simulate_postsynaptic_neuron_plastic(t,pre_spike_train)"
      ],
      "execution_count": 0,
      "outputs": []
    },
    {
      "metadata": {
        "id": "35Zt_1IsmHR6",
        "colab_type": "text"
      },
      "cell_type": "markdown",
      "source": [
        "Copy/paste the code from Exercise 5 into the cell below to produce the same plots of $\\bar g_i(t)$ and the same histograms. What is happening and why is this different from the previous exercise?"
      ]
    },
    {
      "metadata": {
        "id": "D4GsH-IvpSCB",
        "colab_type": "code",
        "colab": {
          "autoexec": {
            "startup": false,
            "wait_interval": 0
          }
        }
      },
      "cell_type": "code",
      "source": [
        "# insert your code here"
      ],
      "execution_count": 0,
      "outputs": []
    },
    {
      "metadata": {
        "id": "SvTRVDjPn_ci",
        "colab_type": "text"
      },
      "cell_type": "markdown",
      "source": [
        "**EXPECTED OUTPUT**\n",
        "\n",
        "![](https://github.com/ccnss/ccnss2018_students/raw/master/module1/figures/T2E6a.png)\n",
        "![](https://github.com/ccnss/ccnss2018_students/raw/master/module1/figures/T2E6b.png)"
      ]
    }
  ]
}