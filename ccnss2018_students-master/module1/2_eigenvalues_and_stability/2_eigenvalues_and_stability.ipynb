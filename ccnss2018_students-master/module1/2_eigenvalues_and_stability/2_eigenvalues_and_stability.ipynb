{
 "cells": [
  {
   "cell_type": "markdown",
   "metadata": {
    "colab_type": "text",
    "id": "o8xBP0yQbQsS"
   },
   "source": [
    "## CCNSS 2018 Module 1: Neurons, synapses and networks\n",
    "# Tutorial 2: Eigenvalues and stability\n",
    "[source](https://colab.research.google.com/drive/1AjAsADoPZXHw4HDkmYMCjQbeuNujKtol)\n",
    "\n",
    "Please execute the cell below to initialise the notebook environment."
   ]
  },
  {
   "cell_type": "code",
   "execution_count": 0,
   "metadata": {
    "colab": {
     "autoexec": {
      "startup": false,
      "wait_interval": 0
     },
     "base_uri": "https://localhost:8080/",
     "height": 34
    },
    "colab_type": "code",
    "executionInfo": {
     "elapsed": 1126,
     "status": "ok",
     "timestamp": 1530151694420,
     "user": {
      "displayName": "Alex Cayco Gajic",
      "photoUrl": "https://lh3.googleusercontent.com/a/default-user=s128",
      "userId": "114299333997536305257"
     },
     "user_tz": -480
    },
    "id": "nNRrXFODbQsT",
    "outputId": "52bb2138-1a11-40f8-b73d-7cd482892056"
   },
   "outputs": [
    {
     "data": {
      "application/javascript": [
       "IPython.notebook.set_autosave_interval(0)"
      ]
     },
     "metadata": {
      "tags": []
     },
     "output_type": "display_data"
    },
    {
     "name": "stdout",
     "output_type": "stream",
     "text": [
      "Autosave disabled\n"
     ]
    }
   ],
   "source": [
    "%autosave 0\n",
    "\n",
    "import matplotlib.pyplot as plt    # import matplotlib\n",
    "import numpy as np                 # import numpy\n",
    "import random                      # import basic random number generator functions\n",
    "import scipy.optimize as opt       # import root-finding algorithm\n",
    "\n",
    "fig_w, fig_h = (6, 4)\n",
    "plt.rcParams.update({'figure.figsize': (fig_w, fig_h)})"
   ]
  },
  {
   "cell_type": "markdown",
   "metadata": {
    "colab_type": "text",
    "id": "b4dzHuN5bQsX"
   },
   "source": [
    "\n",
    "## Objectives\n",
    "In this notebook, we return to the Wilson-Cowan equations and learn about eigenvalues and stability. First execute the cell below to initialise the simulation parameters.\n",
    "\n",
    "**Background paper:**\n",
    "*  Wilson H and Cowan J (1972) Excitatory and inhibitory interactions in localized populations of model neurons. Biophysical Journal 12."
   ]
  },
  {
   "cell_type": "code",
   "execution_count": 0,
   "metadata": {
    "colab": {
     "autoexec": {
      "startup": false,
      "wait_interval": 0
     }
    },
    "colab_type": "code",
    "id": "UdXz_71Dnl1m"
   },
   "outputs": [],
   "source": [
    "dt = 0.1\n",
    "\n",
    "# Connection weights\n",
    "wEE = 12\n",
    "wEI = 4\n",
    "wIE = 13\n",
    "wII = 11\n",
    "\n",
    "# Refractory parameter\n",
    "r = 1\n",
    "\n",
    "# External input\n",
    "I_ext = 0\n",
    "\n",
    "# Excitatory parameters\n",
    "tau_E = 1       # Timescale of excitatory population\n",
    "a_E = 1.2       # Gain of excitatory population\n",
    "theta_E = 2.8   # Threshold of excitatory population\n",
    "\n",
    "# Inhibitory parameters\n",
    "tau_I = 1       # Timescale of inhibitory population\n",
    "a_I = 1         # Gain of inhibitory population\n",
    "theta_I = 4     # Threshold of inhibitory population"
   ]
  },
  {
   "cell_type": "markdown",
   "metadata": {
    "colab_type": "text",
    "id": "O3OOhE7l2Ge-"
   },
   "source": [
    "Recall from Tutorial 1 that the Wilson-Cowan equations are given by:\n",
    "\n",
    "\\begin{align}\n",
    "& \\frac{dE}{dt} = -E + (1 - r E) F(w_{EE}E -w_{EI}I + I_{ext};a,\\theta)\\\\\n",
    "& \\frac{dI}{dt} = -I + (1 - r I) F(w_{IE}E -w_{II}I;a,\\theta)\n",
    "\\end{align}\n",
    "\n",
    "Note that, in the cell above, we set $\\tau_E = \\tau_I = 1$, so we have dropped the timescales from the equations above. Let's now define the right-hand side of the equation using the functions $G_E(E,I)$ and $G_I(E,I)$:\n",
    "\n",
    "\\begin{align}\n",
    "&\\frac{dE}{dt} =G_E(E,I)\\\\\n",
    "&\\frac{dI}{dt} = G_I(E,I)\n",
    "\\end{align}\n",
    "\n",
    "Previously, we studied a bifurcation in the Wilson-Cowan equations in which the system changed from one stable steady state to two (bistability). In this tutorial, we will use linear stability analysis to analyse the stability of the fixed points during this bifurcation. We will need to borrow some functions from the previous tutorial to simulate the equations, as well as to plot the E and I nullclines.\n",
    "\n",
    "Execute the cell below to define the relevant functions (you may also copy paste the ones you have already created)."
   ]
  },
  {
   "cell_type": "code",
   "execution_count": 0,
   "metadata": {
    "colab": {
     "autoexec": {
      "startup": false,
      "wait_interval": 0
     }
    },
    "colab_type": "code",
    "id": "A0Azu1dc1zAV"
   },
   "outputs": [],
   "source": [
    "def F(x,a,theta): \n",
    "    \"\"\"Population activation function.\n",
    "\n",
    "    Arguments:\n",
    "    x -- the population input\n",
    "    a -- the gain of the function\n",
    "    theta -- the threshold of the function\n",
    "    \n",
    "    Returns:\n",
    "    y -- the population activation response\n",
    "    \"\"\"\n",
    "    \n",
    "    y = (1+np.exp(-a*(x-theta)))**-1 - (1+np.exp(a*theta))**-1\n",
    "    \n",
    "    return y\n",
    "\n",
    "  \n",
    "def simulate_wc(t,E0,I0):\n",
    "    \"\"\"Simulate the Wilson-Cowan equations.\n",
    "   \n",
    "    Arguments:\n",
    "    t -- time (vector)\n",
    "    E0 -- initial condition of the excitatory population\n",
    "    I0 -- initial condition of the inhibitory population\n",
    "    \n",
    "    Returns:\n",
    "    E -- Activity of excitatory population (vector)\n",
    "    I -- Activity of inhibitory population (vector)\n",
    "    \"\"\"\n",
    "    \n",
    "    dt = t[1]-t[0]\n",
    "    E = np.zeros(len(t))\n",
    "    I = np.zeros(len(t))\n",
    "    E[0] = E0\n",
    "    I[0] = I0\n",
    "    for k in range(len(t)-1):\n",
    "        E[k+1] = E[k] + dt/tau_E * (-E[k]+(1-r*E[k])*F(wEE*E[k]-wEI*I[k]+I_ext,a_E,theta_E))\n",
    "        I[k+1] = I[k] + dt/tau_I * (-I[k]+(1-r*I[k])*F(wIE*E[k]-wII*I[k],a_I,theta_I))\n",
    "        \n",
    "    return E,I\n",
    "\n",
    "\n",
    "def F_inv(x,a,theta): \n",
    "    \"\"\"Define the inverse of the population activation function.\n",
    "\n",
    "    Arguments:\n",
    "    x -- the population input\n",
    "    a -- the gain of the function\n",
    "    theta -- the threshold of the function\n",
    "    \n",
    "    Returns:\n",
    "    y -- value of the inverse function\n",
    "    \"\"\"\n",
    "    \n",
    "    y = -1/a * np.log((x+(1+np.exp(a*theta))**-1)**-1 -1) + theta\n",
    "    \n",
    "    return y\n",
    "\n",
    "\n",
    "def get_E_nullcline(E):\n",
    "    \"\"\"Solve for I along the E nullcline (dE/dt = 0).\n",
    "   \n",
    "    Arguments:\n",
    "    E -- values of E over which the nullcline is computed\n",
    "    \n",
    "    Returns:\n",
    "    I -- values of I along the nullcline for each E\n",
    "    \"\"\"\n",
    "    I = 1./wEI*(wEE*E+I_ext-F_inv(E/(1-r*E),a_E,theta_E))\n",
    "    \n",
    "    return I\n",
    "\n",
    "\n",
    "def get_I_nullcline(I):\n",
    "    \"\"\"Solve for E along the I nullcline (dI/dt = 0).\n",
    "   \n",
    "    Arguments:\n",
    "    I -- values of I over which the nullcline is computed\n",
    "    \n",
    "    Returns:\n",
    "    E -- values of E along the nullcline for each I\n",
    "    \"\"\"\n",
    "    E = 1./wIE*(wII*I+F_inv(I/(1-r*I),a_I,theta_I))\n",
    "    \n",
    "    return E"
   ]
  },
  {
   "cell_type": "markdown",
   "metadata": {
    "colab_type": "text",
    "id": "NZnx3TUGbQsX"
   },
   "source": [
    "**Exercise 1:**  To find the exact fixed points of the system we will need to numerically solving for the fixed point values as the point where $G_E = G_I = 0$. Fill in the function ``wilson_cowan`` below to define $G_E$ and $G_I$. Then, use ``opt.root`` to find the zeros of the Wilson-Cowan equations. Because there are multiple fixed points, you will need to input a different initial guess for each one: use the nullclines from Tutorial 1 Exercise 5 to find a nearby value by eye. Print the values of each fixed point, and save them as `x_fp_1`, etc.\n",
    "\n",
    "**Hint:** To find the fixed point, use \\\\\n",
    "``opt.root(fun,x0).x`` \\\\\n",
    "where ``fun`` is the function whose zeros you want to solve numerically. Since there are many potential zeros, you also need to guess ``x0``an initial point in [E,I] space that is near the fixed point. Note that since ``fun`` is a vector functions, note that ``x0`` will also have to be a vector of the right size. In order to guess ``x0``, use the intersection of the nullclines below:\n",
    "\n",
    "![](https://github.com/ccnss/ccnss2018_students/raw/master/module1/figures/T1E5.png)\n"
   ]
  },
  {
   "cell_type": "code",
   "execution_count": 0,
   "metadata": {
    "colab": {
     "autoexec": {
      "startup": false,
      "wait_interval": 0
     }
    },
    "colab_type": "code",
    "id": "Tlah6bW1t_dQ"
   },
   "outputs": [],
   "source": [
    "def wilson_cowan(x):\n",
    "    \"\"\"Compute dE/dt and dI/dt at a single point in time.\n",
    "    Used to numerically find fixed points.\n",
    "   \n",
    "    Arguments:\n",
    "    x -- 2x1 state vector, of which element 0 is E activity and element 1 is I activity\n",
    "    \n",
    "    Returns:\n",
    "    y -- 2x1 vector of the right hand side of the WC equations (i.e., F_x,F_I)\n",
    "    \"\"\"\n",
    "    # insert your code here\n",
    "    \n",
    "    return y\n",
    "  \n",
    "# insert your code here"
   ]
  },
  {
   "cell_type": "markdown",
   "metadata": {
    "colab_type": "text",
    "id": "dErYdceSuZI0"
   },
   "source": [
    "**EXPECTED OUTPUT**\n",
    "\n",
    "```\n",
    "[0. 0.]\n",
    "[0.17803726 0.06280118]\n",
    "[0.46246487 0.24336411]\n",
    "```"
   ]
  },
  {
   "cell_type": "markdown",
   "metadata": {
    "colab_type": "text",
    "id": "x0aTAHYNbQsd"
   },
   "source": [
    "**Exercise 2:** Now we will. First differentiate F (the sigmoidal activation function) with respect to x. Then fill out the first function to define the derivative of F. Next fill in the second function to calculate the eigenvalues of the Jacobian matrix using ``np.linalg.eig``. Recall that the Jacobian is defined as:\n",
    "\n",
    " $$\n",
    "   J=\n",
    "  \\left[ {\\begin{array}{cc}\n",
    "   \\frac{dG_E}{dE} & \\frac{dG_E}{dI} \\\\\n",
    "   \\frac{dG_I}{dE} & \\frac{dG_I}{dI} \\\\\n",
    "  \\end{array} } \\right]\n",
    "$$\n",
    "\n",
    "\n",
    "To calculate these derivatives we will need to differentiate the population activation function. Recall that:\n",
    "$$ F(x;a,\\theta) = \\frac{1}{1+\\exp\\{-a(x-\\theta)\\}} - \\frac{1}{1+\\exp\\{a\\theta\\}}$$\n",
    "Therefore, the derivative is given by:\n",
    "\\begin{align} \n",
    "\\frac{dF}{dx} & = \\frac{d}{dx} (1+\\exp\\{-a(x-\\theta)\\})^{-1}  \\\\\n",
    "& = a\\exp\\{-a(x-\\theta)\\} (1+\\exp\\{-a(x-\\theta)\\})^{-2} \n",
    "\\end{align}\n",
    "Define a function to calculate $\\frac{dF}{dx}$ by executing the cell below.\n",
    "\n"
   ]
  },
  {
   "cell_type": "code",
   "execution_count": 0,
   "metadata": {
    "colab": {
     "autoexec": {
      "startup": false,
      "wait_interval": 0
     }
    },
    "colab_type": "code",
    "id": "Iv7Ytjoh8LfB"
   },
   "outputs": [],
   "source": [
    "def DF(x,a,theta): \n",
    "    \"\"\"Calculate the derivative of the population activation function, and evaluate at x.\n",
    "   \n",
    "    Arguments:\n",
    "    x -- the population input\n",
    "    a -- the gain of the function\n",
    "    theta -- the threshold of the function\n",
    "    \n",
    "    Returns:\n",
    "    DF -- derivative of activation function\n",
    "    \"\"\"\n",
    "    \n",
    "    DF = a*np.exp(-a*(x-theta))*(1+np.exp(-a*(x-theta)))**-2\n",
    "    \n",
    "    return DF"
   ]
  },
  {
   "cell_type": "markdown",
   "metadata": {
    "colab_type": "text",
    "id": "DURSDoDt9Dz5"
   },
   "source": [
    "Using the chain and product rules, the derivatives for the excitatory population are given by:\n",
    "\\begin{align}\n",
    "&\\frac{dG_E}{dE} =  -1 - r F(w_{EE}E -w_{EI}I + I_{ext}) + w_{EE} (1 - r E) F'(w_{EE}E -w_{EI}I + I_{ext}) \\\\\n",
    "&\\frac{dG_E}{dI} =  -w_{EI}(1 - rE) F'(w_{EE}E -w_{EI}I + I_{ext}) \n",
    "\\end{align}\n",
    "\n",
    "And similarly for the inhibitory population. Therefore the rest of the equations are given by:\n",
    "```\n",
    "dGE_dE = -1 - r*F(wEE*E-wEI*I+I_ext,a_E,theta_E) + wEE*(1-r*E)*DF(wEE*E-wEI*I+I_ext,a_E,theta_E);\n",
    "dGI_dI = -1 - r*F(wIE*E-wII*I,a_I,theta_I) - wII*(1-r*I)*DF(wIE*E-wII*I,a_I,theta_I);\n",
    "dGE_dI = -wEI*(1-r*E)*DF(wEE*E-wEI*I+I_ext,a_E,theta_E);\n",
    "dGI_dE = wIE*(1-r*I)*DF(wIE*E-wII*I,a_I,theta_I);\n",
    "```\n",
    "Use these equations to fill in the function below to defined the Jacobian function at a given fixed point and calculate the eigenvalues. Use this function to calculate the eigenvalues at each of the three fixed points. What does this tell you about the stability? Compare with your phase portrait from Tutorial 1."
   ]
  },
  {
   "cell_type": "code",
   "execution_count": 0,
   "metadata": {
    "colab": {
     "autoexec": {
      "startup": false,
      "wait_interval": 0
     }
    },
    "colab_type": "code",
    "id": "j0LZT8nBVCCL"
   },
   "outputs": [],
   "source": [
    "def get_eig_Jacobian(fp):\n",
    "    \"\"\"Calculate the Jacobian, and then return its eigenvalues.\n",
    "   \n",
    "    Arguments:\n",
    "    fp -- 2x1 vector for the fixed point, where fp[0] is E, fp[1] is I\n",
    "    \n",
    "    Returns:\n",
    "    evals -- 2x1 vector of eigenvalues of the Jacobian matrix\n",
    "    \"\"\"\n",
    "    # insert your code here\n",
    "    \n",
    "    return evals\n",
    "    \n",
    "# insert your code here"
   ]
  },
  {
   "cell_type": "markdown",
   "metadata": {
    "colab_type": "text",
    "id": "EfknDQyQTgaj"
   },
   "source": [
    "**EXPECTED OUTPUT**\n",
    "\n",
    "```\n",
    "[-0.59221954 -1.13490067]\n",
    "[ 0.73429984 -1.59936786]\n",
    "[-1.43398007 -2.88063222]\n",
    "```"
   ]
  },
  {
   "cell_type": "markdown",
   "metadata": {
    "colab_type": "text",
    "id": "aATxxlkobQsi"
   },
   "source": [
    "**Exercise 3:** Vary $w_{EE}$ for 35 points between 5 and 15 while plotting the maximum real part of the eigenvalue of each fixed point. What happens in this bifurcation? Also simulate and plot the model for several different values of $w_{EE}$ to see how fast the solution decays to the fixed point [0,0]. Use the initial condition $E_0=I_0=0.05$. How does the timescale of the dynamics change with the eigenvalue?"
   ]
  },
  {
   "cell_type": "code",
   "execution_count": 0,
   "metadata": {
    "colab": {
     "autoexec": {
      "startup": false,
      "wait_interval": 0
     }
    },
    "colab_type": "code",
    "id": "sp12lR3dW62L"
   },
   "outputs": [],
   "source": [
    "# insert your code here"
   ]
  },
  {
   "cell_type": "markdown",
   "metadata": {
    "colab_type": "text",
    "id": "7wbdbuQSXHnq"
   },
   "source": [
    "**EXPECTED OUTPUT**\n",
    "\n",
    "![](https://github.com/ccnss/ccnss2018_students/raw/master/module1/figures/T3E3a.png)\n",
    "![](https://github.com/ccnss/ccnss2018_students/raw/master/module1/figures/T3E3b.png)"
   ]
  },
  {
   "cell_type": "markdown",
   "metadata": {
    "colab_type": "text",
    "id": "uQSRNx6qDEtZ"
   },
   "source": [
    "**Exercise 4:** Now change the connectivity and external input parameters by executing the cell below."
   ]
  },
  {
   "cell_type": "code",
   "execution_count": 0,
   "metadata": {
    "colab": {
     "autoexec": {
      "startup": false,
      "wait_interval": 0
     }
    },
    "colab_type": "code",
    "id": "1uOFI-tHcbXm"
   },
   "outputs": [],
   "source": [
    "# New recurrent connection strengths\n",
    "wEE = 16\n",
    "wEI = 12\n",
    "wIE = 15\n",
    "wII = 3\n",
    "\n",
    "# New external input\n",
    "I_ext = 1"
   ]
  },
  {
   "cell_type": "markdown",
   "metadata": {
    "colab_type": "text",
    "id": "--sGlBTubQsl"
   },
   "source": [
    "Use ``get_E_nullcline`` and ``get_I_nullcline`` to plot the nullclines. How many fixed points do you see? Now plot some example trajectories with different initial conditions (in the 'expected output' I used $E_0 = 0,0.2,0.4$ and $I_0 = 0,0.2,0.4$, and an extra initial condition at $E_0=I_0= 0.25$). What attractors do you see? Test the stability of the limit cycle by plotting E and I vs t for an example initial condition that converges to the limit cycle (up to $t_{max}=50$). Finally, test the stability of the fixed point by calculating the eigenvalues."
   ]
  },
  {
   "cell_type": "code",
   "execution_count": 0,
   "metadata": {
    "colab": {
     "autoexec": {
      "startup": false,
      "wait_interval": 0
     }
    },
    "colab_type": "code",
    "id": "HejxVP75DCCb"
   },
   "outputs": [],
   "source": [
    "# insert your code here"
   ]
  },
  {
   "cell_type": "markdown",
   "metadata": {
    "colab_type": "text",
    "id": "yTXejTsQYCS8"
   },
   "source": [
    "**EXPECTED OUTPUT**\n",
    "\n",
    "![](https://github.com/ccnss/ccnss2018_students/raw/master/module1/figures/T3E4a.png)\n",
    "![](https://github.com/ccnss/ccnss2018_students/raw/master/module1/figures/T3E4b.png)\n",
    "\n",
    "```\n",
    "[0.10551462+1.63867543j 0.10551462-1.63867543j]\n",
    "```"
   ]
  },
  {
   "cell_type": "markdown",
   "metadata": {
    "colab_type": "text",
    "id": "RMh3lBwUbQsq"
   },
   "source": [
    "**Exercise 5:** Now plot the phase plane for $w_{II} =2,4,6$. This is the same kind of bifurcation that we saw with the FitzHugh Nagumo model (a 'Hopf' bifurcation). Plot the real part of the eigenvalues against $w_{11}$ between $0 \\leq w_{11} \\leq 6$ to see the transition from."
   ]
  },
  {
   "cell_type": "code",
   "execution_count": 0,
   "metadata": {
    "colab": {
     "autoexec": {
      "startup": false,
      "wait_interval": 0
     }
    },
    "colab_type": "code",
    "id": "exXaokPaeZDA"
   },
   "outputs": [],
   "source": [
    "# insert your code here"
   ]
  },
  {
   "cell_type": "markdown",
   "metadata": {
    "colab_type": "text",
    "id": "JQov0M6se13Y"
   },
   "source": [
    "**EXPECTED OUTPUT**\n",
    "\n",
    "![](https://github.com/ccnss/ccnss2018_students/raw/master/module1/figures/T3E5a.png)\n",
    "![](https://github.com/ccnss/ccnss2018_students/raw/master/module1/figures/T3E5b.png)\n",
    "![](https://github.com/ccnss/ccnss2018_students/raw/master/module1/figures/T3E5c.png)\n",
    "![](https://github.com/ccnss/ccnss2018_students/raw/master/module1/figures/T3E5d.png)\n"
   ]
  },
  {
   "cell_type": "markdown",
   "metadata": {
    "colab_type": "text",
    "id": "NBrboYlPEAS1"
   },
   "source": [
    "**Bonus Exercise:** Ask Alex."
   ]
  }
 ],
 "metadata": {
  "colab": {
   "collapsed_sections": [],
   "default_view": {},
   "name": "2_eigenvalues_and_stability",
   "provenance": [
    {
     "file_id": "1AjAsADoPZXHw4HDkmYMCjQbeuNujKtol",
     "timestamp": 1530164480143
    },
    {
     "file_id": "1JbztKrTjC3AqBji3o_3J53zrdX41QuOE",
     "timestamp": 1529989315381
    },
    {
     "file_id": "1QfnAXTOYLZUOCOhifLhvpAOKKSyBSHal",
     "timestamp": 1526851249365
    }
   ],
   "version": "0.3.2",
   "views": {}
  },
  "kernelspec": {
   "display_name": "Python 3",
   "language": "python",
   "name": "python3"
  },
  "language_info": {
   "codemirror_mode": {
    "name": "ipython",
    "version": 3
   },
   "file_extension": ".py",
   "mimetype": "text/x-python",
   "name": "python",
   "nbconvert_exporter": "python",
   "pygments_lexer": "ipython3",
   "version": "3.6.5"
  }
 },
 "nbformat": 4,
 "nbformat_minor": 1
}
