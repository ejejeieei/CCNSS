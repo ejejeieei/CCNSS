{
 "cells": [
  {
   "cell_type": "markdown",
   "metadata": {
    "colab_type": "text",
    "id": "o8xBP0yQbQsS"
   },
   "source": [
    "## CCNSS 2018 Module 1: Neurons, synapses and networks\n",
    "# Tutorial 4: Balanced neuronal excitation and inhibition\n",
    "[source](https://colab.research.google.com/drive/1I4b01XubbttyGW1nahCEBM-Yl0K98QrV)\n",
    "\n",
    "Please execute the cell below to initialise the notebook environment."
   ]
  },
  {
   "cell_type": "code",
   "execution_count": 0,
   "metadata": {
    "colab": {
     "autoexec": {
      "startup": false,
      "wait_interval": 0
     },
     "base_uri": "https://localhost:8080/",
     "height": 34
    },
    "colab_type": "code",
    "executionInfo": {
     "elapsed": 1121,
     "status": "ok",
     "timestamp": 1530254896813,
     "user": {
      "displayName": "Alex Cayco Gajic",
      "photoUrl": "https://lh3.googleusercontent.com/a/default-user=s128",
      "userId": "114299333997536305257"
     },
     "user_tz": -480
    },
    "id": "nNRrXFODbQsT",
    "outputId": "44a3d762-afc0-42bb-e517-485e335d576b"
   },
   "outputs": [
    {
     "data": {
      "application/javascript": [
       "IPython.notebook.set_autosave_interval(0)"
      ]
     },
     "metadata": {
      "tags": []
     },
     "output_type": "display_data"
    },
    {
     "name": "stdout",
     "output_type": "stream",
     "text": [
      "Autosave disabled\n"
     ]
    }
   ],
   "source": [
    "%autosave 0\n",
    "\n",
    "import matplotlib.pyplot as plt    # import matplotlib\n",
    "import numpy as np                 # import numpy\n",
    "import random                      # import basic random number generator functions\n",
    "\n",
    "fig_w, fig_h = (6, 4)\n",
    "plt.rcParams.update({'figure.figsize': (fig_w, fig_h)})"
   ]
  },
  {
   "cell_type": "markdown",
   "metadata": {
    "colab_type": "text",
    "id": "b4dzHuN5bQsX"
   },
   "source": [
    "\n",
    "## Objectives\n",
    "\n",
    "In this tutorial, we will build on the conductance-based model in Tutorial 4 to study E/I balance and fluctuation-drive spiking in a conductance based neuron.\n",
    "\n",
    "**Background paper:**\n",
    "\n",
    "* Song S, Miller K and Abott L (2000) Competitive Hebbian learning through spike-timing-dependent synaptic plasticity. Nature Neurosci 3.\n",
    "\n",
    "**Extra reading:**\n",
    "\n",
    "* Softy W and Koch C (1993) The highly irregular firing of cortical cells is inconsistent with temporal integration of random EPSPs. J Neurosci 13.\n",
    "\n",
    "* Okun M and Lampl I (2009) Balance of excitation and inhibition. Scholarpedia: http://www.scholarpedia.org/article/Balance_of_excitation_and_inhibition"
   ]
  },
  {
   "cell_type": "markdown",
   "metadata": {
    "colab_type": "text",
    "id": "f6lEqWHZbQsX"
   },
   "source": [
    "## Background\n"
   ]
  },
  {
   "cell_type": "code",
   "execution_count": 0,
   "metadata": {
    "colab": {
     "autoexec": {
      "startup": false,
      "wait_interval": 0
     }
    },
    "colab_type": "code",
    "id": "_r5cnBUTi864"
   },
   "outputs": [],
   "source": [
    "t_max = 500e-3   # second\n",
    "dt = 1e-3        # second\n",
    "tau = 20e-3      # second\n",
    "el = -60e-3      # volt\n",
    "e_ex = 0         # volt\n",
    "e_in = -70e-3    # volt\n",
    "vr = -70e-3      # volt\n",
    "vth = -50e-3     # volt\n",
    "tau_syn = 5e-3   # second "
   ]
  },
  {
   "cell_type": "markdown",
   "metadata": {
    "colab_type": "text",
    "id": "NZnx3TUGbQsX"
   },
   "source": [
    "**Exercise 1:** Fill in in the following functions to generate Poisson spikes and simulate a postsynaptic neuron with both excitatory and inhibitoy conductances (no plasticity). Use the code you wrote in Tutorial 3 and build it up to incorporate inhibition, by adding an inhibitory conductance:\n",
    "\n",
    "\n",
    "\\begin{align}\n",
    "&\\tau_m\\,\\frac{dV}{dt}\\ = E_{L} - V(t) + g_{ex}(t)(E_{ex}-V(t))+ g_{in}(t)(E_{in}-V(t)) &\\text{if }\\quad V(t) \\leq V_{th}\\\\\n",
    "&V(t) = V_{r} &\\text{otherwise}\\\\\n",
    "\\end{align}\n",
    "\n",
    "Also modify the code to return the spike times of the postsynpatic neuron. Then, simulate a postsynaptic neuron with 800 excitatory inputs and 200 inhibitory inputs at 10 Hz for 500 ms, with peak conductances of $\\bar g_{max,ex} = \\bar g_{max,in} = 6*10^{-3}$.\n"
   ]
  },
  {
   "cell_type": "code",
   "execution_count": 0,
   "metadata": {
    "colab": {
     "autoexec": {
      "startup": false,
      "wait_interval": 0
     }
    },
    "colab_type": "code",
    "id": "ZVpYdfU8tI14"
   },
   "outputs": [],
   "source": [
    "random.seed(0)\n",
    "\n",
    "def generate_Poisson_spikes(t,rate,n):\n",
    "  \"\"\" Generates poisson spike trains\n",
    "  \n",
    "  Arguments:\n",
    "  t -- time\n",
    "  rate -- firing rate (Hz)\n",
    "  n -- number of spike trains\n",
    "  \n",
    "  Returns:\n",
    "  pre_spike_train -- spike train matrix, ith row represents whether \n",
    "                     there is a spike in ith spike train over time\n",
    "                     (1 if spike, 0 otherwise)\n",
    "  \"\"\"\n",
    "  # insert your code here\n",
    "  return pre_spike_train\n",
    "\n",
    "def simulate_postsynaptic_neuron(t,pre_spike_train_ex,pre_spike_train_in):\n",
    "    \"\"\" Simulate nonplastic postsynaptic neuron\n",
    "  \n",
    "    Arguments:\n",
    "    t -- time\n",
    "    pre_spike_train_ex -- excitatory presynaptic spike train matrix, same length as t\n",
    "    pre_spike_train_in -- inhibitory presynaptic spike train matrix, same length as t\n",
    "  \n",
    "    Returns:\n",
    "    v -- membrane potential\n",
    "    spike_times -- list of postsynaptic spike times\n",
    "    \"\"\"\n",
    "    # insert your code here\n",
    "    return v,spike_times\n",
    "\n",
    "# insert your code here"
   ]
  },
  {
   "cell_type": "markdown",
   "metadata": {
    "colab_type": "text",
    "id": "pm5uwDJEtAMx"
   },
   "source": [
    "**EXPECTED OUTPUT**\n",
    "```\n",
    "24.0\n",
    "```"
   ]
  },
  {
   "cell_type": "markdown",
   "metadata": {
    "colab_type": "text",
    "id": "x0aTAHYNbQsd"
   },
   "source": [
    "**Exercise 2:** Repeat this over 10 trials and make a raster plot showing the spike times for each trial. Calculate the average firing rate over all the trials."
   ]
  },
  {
   "cell_type": "code",
   "execution_count": 0,
   "metadata": {
    "colab": {
     "autoexec": {
      "startup": false,
      "wait_interval": 0
     }
    },
    "colab_type": "code",
    "id": "4BmNNmxyt--T"
   },
   "outputs": [],
   "source": [
    "random.seed(0)\n",
    "\n",
    "# insert your code here"
   ]
  },
  {
   "cell_type": "markdown",
   "metadata": {
    "colab_type": "text",
    "id": "J_PWUIdbtY9R"
   },
   "source": [
    "**EXPECTED OUTPUT**\n",
    "```\n",
    "22.6\n",
    "```\n",
    "\n",
    "![](https://github.com/ccnss/ccnss2018_students/raw/master/module1/figures/T4E2.png)"
   ]
  },
  {
   "cell_type": "markdown",
   "metadata": {
    "colab_type": "text",
    "id": "BzdDX2j-4uRF"
   },
   "source": [
    "**Exercise 3:** Now increase the peak inhibitory conductance to  $\\bar g_{max,in} = 8*\\bar g_{max,ex}$. To maintain a similar firing rate, you should also increase the peak excitatory conductance: $\\bar g_{max,ex} = 17*10^{-3}$. How are the raster plots different? Which one is more regular?"
   ]
  },
  {
   "cell_type": "code",
   "execution_count": 0,
   "metadata": {
    "colab": {
     "autoexec": {
      "startup": false,
      "wait_interval": 0
     }
    },
    "colab_type": "code",
    "id": "9WeR1P12ufoR"
   },
   "outputs": [],
   "source": [
    "random.seed(0)\n",
    "\n",
    "# insert your code here"
   ]
  },
  {
   "cell_type": "markdown",
   "metadata": {
    "colab_type": "text",
    "id": "gP-J98w3upCd"
   },
   "source": [
    "**EXPECTED OUTPUT**\n",
    "```\n",
    "22.2\n",
    "```\n",
    "\n",
    "![](https://github.com/ccnss/ccnss2018_students/raw/master/module1/figures/T4E3.png)"
   ]
  },
  {
   "cell_type": "markdown",
   "metadata": {
    "colab_type": "text",
    "id": "aATxxlkobQsi"
   },
   "source": [
    "**Exercise 4:** To see what's happening, simulate one example with the excitatory and inhibitory conductances from Exercise 1-2, and one example with the conductances from Exercise 3. Use exactly the same presynaptic spike train for each simulation. Plot the membrane potential for each case. How does this difference in $\\bar g_{max,ex}$ and $\\bar g_{max,in}$ change the subthreshold dynamics? How does this explain the difference in the postsynaptic spike trains?"
   ]
  },
  {
   "cell_type": "code",
   "execution_count": 0,
   "metadata": {
    "colab": {
     "autoexec": {
      "startup": false,
      "wait_interval": 0
     }
    },
    "colab_type": "code",
    "id": "wSeqJZFMvfjQ"
   },
   "outputs": [],
   "source": [
    "random.seed(0)\n",
    "\n",
    "# insert your code here"
   ]
  },
  {
   "cell_type": "markdown",
   "metadata": {
    "colab_type": "text",
    "id": "KI13EmzhwCRE"
   },
   "source": [
    "**EXPECTED OUTPUT**\n",
    "\n",
    "![](https://github.com/ccnss/ccnss2018_students/raw/master/module1/figures/T4E4.png)"
   ]
  },
  {
   "cell_type": "markdown",
   "metadata": {
    "colab_type": "text",
    "id": "--sGlBTubQsl"
   },
   "source": [
    "**Exercise 5:**  By increasing the inhibitory strengths relative to the excitatory strength, the postsynaptic neuron enters an irregular spiking regime in which spikes are drive by fluctuations in the input, rather than the mean input. This is called E/I balance. To quantify the irregularity of spiking, calculate the coefficient of variation (CV) of the inter-spike intervals. The CV is defined as the ratio of the standard deviation to the mean:\n",
    "$$ CV = \\frac{\\sigma_{ISI}}{\\mu_{ISI}}$$\n",
    "Fill in the following function to get the CV. Test it by calculating the CV for both the balanced and unbalanced neurons (increase $t_{max}$ to 5 s). Note that for a poisson process, the CV is 1."
   ]
  },
  {
   "cell_type": "code",
   "execution_count": 0,
   "metadata": {
    "colab": {
     "autoexec": {
      "startup": false,
      "wait_interval": 0
     }
    },
    "colab_type": "code",
    "id": "aGXA__1BrbZj"
   },
   "outputs": [],
   "source": [
    "random.seed(0)\n",
    "\n",
    "\n",
    "def get_CV(spike_times):\n",
    "  \"\"\"Calculate the coefficient of variation\n",
    "  \n",
    "  Arguments:\n",
    "  spike_times -- list of spike times\n",
    "  \n",
    "  Returns:\n",
    "  CV -- coefficient of variation for the spike times\n",
    "  \"\"\"\n",
    "  # insert your code here\n",
    "  return CV\n",
    "\n",
    "# insert your code here"
   ]
  },
  {
   "cell_type": "markdown",
   "metadata": {
    "colab_type": "text",
    "id": "vzXt_E3UyqA5"
   },
   "source": [
    "**EXPECTED OUTPUT**\n",
    "\n",
    "```0.774793911740589 0.15577586005132124```"
   ]
  },
  {
   "cell_type": "markdown",
   "metadata": {
    "colab_type": "text",
    "id": "maxVUKRL9B-q"
   },
   "source": [
    "**Exercise 6:** Now repeat the previous exercise while ranging the presynaptic range from 10 to 40 Hz. Plot the CV against the firing rate for both the balanced and unbalanced neurons. Why does the CV decrease with firing rate?"
   ]
  },
  {
   "cell_type": "code",
   "execution_count": 0,
   "metadata": {
    "colab": {
     "autoexec": {
      "startup": false,
      "wait_interval": 0
     }
    },
    "colab_type": "code",
    "id": "LktfeOCYzz8Y"
   },
   "outputs": [],
   "source": [
    "random.seed(0)\n",
    "\n",
    "# insert your text here"
   ]
  },
  {
   "cell_type": "markdown",
   "metadata": {
    "colab_type": "text",
    "id": "9V65bKwAyrHd"
   },
   "source": [
    "**EXPECTED OUTPUT**\n",
    "\n",
    "![](https://github.com/ccnss/ccnss2018_students/raw/master/module1/figures/T4E6.png)"
   ]
  },
  {
   "cell_type": "markdown",
   "metadata": {
    "colab_type": "text",
    "id": "pmS6_fmm1My_"
   },
   "source": [
    "**Exercise 7:** Next we will see how STDP can help E/I balance in a postsynaptic neuron. First, execute the cell below to set the STDP parameters used in Tutorial 2."
   ]
  },
  {
   "cell_type": "code",
   "execution_count": 0,
   "metadata": {
    "colab": {
     "autoexec": {
      "startup": false,
      "wait_interval": 0
     }
    },
    "colab_type": "code",
    "id": "QsIHr-y_epVR"
   },
   "outputs": [],
   "source": [
    "tau_stdp = 20e-3       # second\n",
    "A_plus = 5e-3  \n",
    "A_minus = A_plus*1.10\n",
    "\n",
    "gbar_max_ex = 0.015\n",
    "gbar_max_in = 0.015"
   ]
  },
  {
   "cell_type": "markdown",
   "metadata": {
    "colab_type": "text",
    "id": "rbcdL2N7eoag"
   },
   "source": [
    "Then, fill in the functions below to simulate STDP. You can use your code from Tutorial 2, while adding nonplastic inhibitory synaptic inputs. Also fill in the function to simulate a postsynaptic neuron with frozen weights (i.e., with fixed $\\bar g_i$). Check that your code works by simulating a plastic postystnaptic neurons receiving input from 300 excitatory cells and 75 inhibitory cells (all firing at 20 Hz) for 5 seconds and plotting the average $\\bar g_i(t)$. Then simulate the postsynaptic neuron for 100 ms after freezing the synaptic weights to those at the end of the STDP protocol. Plot the membraine potential. \n"
   ]
  },
  {
   "cell_type": "code",
   "execution_count": 0,
   "metadata": {
    "colab": {
     "autoexec": {
      "startup": false,
      "wait_interval": 0
     }
    },
    "colab_type": "code",
    "id": "JOE-Zd3DefFJ"
   },
   "outputs": [],
   "source": [
    "random.seed(0)\n",
    "\n",
    "def generate_P(t,pre_spike_train):\n",
    "  \"\"\" Generate P to track presynaptic spikes\n",
    "  \n",
    "  Arguments:\n",
    "  t -- time\n",
    "  pre_spike_train -- presynaptic spike train matrix, same length as t\n",
    "  \n",
    "  Returns:\n",
    "  P -- matrix, ith row is P for the ith presynaptic input \n",
    "  \"\"\"\n",
    "  # insert your code here\n",
    "  return P\n",
    "\n",
    "def simulate_postsynaptic_neuron_plastic(t,pre_spike_train_ex,pre_spike_train_in):\n",
    "    \"\"\"Simulate a plastic neuron\n",
    "    \n",
    "    Arguments:\n",
    "    t -- time\n",
    "    pre_spike_train_ex -- excitatory presynaptic spike train matrix, same length as t\n",
    "    pre_spike_train_in -- inhibitory presynaptic spike train matrix, same length as t\n",
    "  \n",
    "    Returns:\n",
    "    gbar -- matrix, ith row is peak excitatory conductance \n",
    "            over time for ith presynaptic neuron\n",
    "    v -- membrane potential\n",
    "    spike_times -- list of spike times \n",
    "    \"\"\"\n",
    "    # insert your code here\n",
    "    return gbar,v\n",
    "\n",
    "\n",
    "def simulate_postsynaptic_neuron_frozen(t,pre_spike_train_ex,pre_spike_train_in,gbar):\n",
    "    \"\"\"Simulate the postsynaptic neuron after freezing the weights\n",
    "    \n",
    "    Arguments:\n",
    "    t -- time\n",
    "    pre_spike_train_ex -- excitatory presynaptic spike train matrix, same length as t\n",
    "    pre_spike_train_in -- inhibitory presynaptic spike train matrix, same length as t\n",
    "    gbar -- vector, ith element is peak excitatory conductance \n",
    "            over time for ith presynaptic neuron\n",
    "            \n",
    "    Returns:\n",
    "    v -- membrane potential\n",
    "    spike_times -- list of spike times \n",
    "    \"\"\"\n",
    "    # insert your code here\n",
    "    return v,spike_times\n",
    "  \n",
    "# insert your code here"
   ]
  },
  {
   "cell_type": "markdown",
   "metadata": {
    "colab_type": "text",
    "id": "Igh4Nyl_ysOI"
   },
   "source": [
    "**EXPECTED OUTPUT**\n",
    "\n",
    "![](https://github.com/ccnss/ccnss2018_students/raw/master/module1/figures/T4E7a.png)\n",
    "![](https://github.com/ccnss/ccnss2018_students/raw/master/module1/figures/T4E7b.png)\n"
   ]
  },
  {
   "cell_type": "markdown",
   "metadata": {
    "colab_type": "text",
    "id": "koh39TRi1UMx"
   },
   "source": [
    "**Exercise 8:** Now increase $t_{max}$ to 1000 s and simulate STDP by executing the following cell (warning: this is really slow and might kill all your memory). "
   ]
  },
  {
   "cell_type": "code",
   "execution_count": 0,
   "metadata": {
    "colab": {
     "autoexec": {
      "startup": false,
      "wait_interval": 0
     }
    },
    "colab_type": "code",
    "id": "pr3jjkO2VQAu"
   },
   "outputs": [],
   "source": [
    "random.seed(0)\n",
    "  \n",
    "t_max = 1000;\n",
    "t = np.arange(0,t_max,dt)\n",
    "\n",
    "n_ex = 300; n_in = 75; rate = 20\n",
    "\n",
    "pre_spike_train_ex = generate_Poisson_spikes(t,rate,n_ex)\n",
    "pre_spike_train_in = generate_Poisson_spikes(t,rate,n_in)\n",
    "\n",
    "gbar, v = simulate_postsynaptic_neuron_plastic(t,pre_spike_train_ex,pre_spike_train_in)\n"
   ]
  },
  {
   "cell_type": "markdown",
   "metadata": {
    "colab_type": "text",
    "id": "OGQusPD4VbRG"
   },
   "source": [
    "When it has completed, plot the histograms at the end of learning and 90% of the way through. Has the system converged?"
   ]
  },
  {
   "cell_type": "code",
   "execution_count": 0,
   "metadata": {
    "colab": {
     "autoexec": {
      "startup": false,
      "wait_interval": 0
     }
    },
    "colab_type": "code",
    "id": "e0dgv9aihytu"
   },
   "outputs": [],
   "source": [
    "random.seed(0)\n",
    "\n",
    "# insert your code here"
   ]
  },
  {
   "cell_type": "markdown",
   "metadata": {
    "colab_type": "text",
    "id": "rVo0EVg-huwE"
   },
   "source": [
    "**EXPECTED OUTPUT**\n",
    "\n",
    "![](https://github.com/ccnss/ccnss2018_students/raw/master/module1/figures/T4E8.png)"
   ]
  },
  {
   "cell_type": "markdown",
   "metadata": {
    "colab_type": "text",
    "id": "jZ9G_-tIhI_i"
   },
   "source": [
    "**Exercise 9:** Finally, use the weights at the end of STDP (from Exercise 8) to simulate the postsynaptic neuron for  $t_{max}=15 s$ (use  the function ``simulate_postsynaptic_neuron_frozen``).\n",
    "Calculate the CV at the beginning and at the end of STDP. "
   ]
  },
  {
   "cell_type": "code",
   "execution_count": 0,
   "metadata": {
    "colab": {
     "autoexec": {
      "startup": false,
      "wait_interval": 0
     }
    },
    "colab_type": "code",
    "id": "6C0zkNjNh120"
   },
   "outputs": [],
   "source": [
    "random.seed(0)\n",
    "\n",
    "# insert your code here"
   ]
  },
  {
   "cell_type": "markdown",
   "metadata": {
    "colab_type": "text",
    "id": "BjnNEJMbytan"
   },
   "source": [
    "**EXPECTED OUTPUT**\n",
    "\n",
    "```0.10194746220181417 0.7006726102447001```"
   ]
  }
 ],
 "metadata": {
  "colab": {
   "collapsed_sections": [],
   "default_view": {},
   "name": "4_balanced_neuronal_ei.ipynb",
   "provenance": [
    {
     "file_id": "1I4b01XubbttyGW1nahCEBM-Yl0K98QrV",
     "timestamp": 1530256671993
    },
    {
     "file_id": "1QfnAXTOYLZUOCOhifLhvpAOKKSyBSHal",
     "timestamp": 1526851249365
    }
   ],
   "version": "0.3.2",
   "views": {}
  },
  "kernelspec": {
   "display_name": "Python 3",
   "language": "python",
   "name": "python3"
  },
  "language_info": {
   "codemirror_mode": {
    "name": "ipython",
    "version": 3
   },
   "file_extension": ".py",
   "mimetype": "text/x-python",
   "name": "python",
   "nbconvert_exporter": "python",
   "pygments_lexer": "ipython3",
   "version": "3.6.4"
  }
 },
 "nbformat": 4,
 "nbformat_minor": 1
}
