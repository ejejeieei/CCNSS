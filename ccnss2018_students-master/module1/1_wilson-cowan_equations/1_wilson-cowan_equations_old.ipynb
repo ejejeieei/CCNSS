{
 "cells": [
  {
   "cell_type": "markdown",
   "metadata": {
    "colab_type": "text",
    "id": "FA0fl6F8bWgl"
   },
   "source": [
    "## CCNSS 2018 Module 1: Neurons, synapses and networks\n",
    "# Tutorial 1: Wilson-Cowan equations\n",
    "[source](https://colab.research.google.com/drive/16strzPZxTEqR2owgSh6NNLlj2j7MNOQb)\n",
    "\n",
    "Please execute the cell below to initalise the notebook environment."
   ]
  },
  {
   "cell_type": "code",
   "execution_count": 0,
   "metadata": {
    "colab": {
     "autoexec": {
      "startup": false,
      "wait_interval": 0
     }
    },
    "colab_type": "code",
    "id": "I3mWe1tibWgn"
   },
   "outputs": [],
   "source": [
    "import matplotlib.pyplot as plt    # import matplotlib\n",
    "import numpy as np                 # import numpy\n",
    "import scipy as sp                 # import scipy\n",
    "import math                        # import basic math functions\n",
    "import random                      # import basic random number generator functions\n",
    "\n",
    "fig_w, fig_h = (6, 4)\n",
    "plt.rcParams.update({'figure.figsize': (fig_w, fig_h)})"
   ]
  },
  {
   "cell_type": "markdown",
   "metadata": {
    "colab_type": "text",
    "id": "3ZsFEVzWbWgp"
   },
   "source": [
    "## Objectives\n",
    "In this notebook we will introduce the *Wilson-Cowan* rate model, and use it to learn more about phase planes, nullclines, and attractors.\n",
    "\n",
    "** Background paper:** \n",
    "* Wilson H and Cowan J (1972) Excitatory and inhibitory interactions in localized populations of model neurons. Biophysical Journal 12.\n"
   ]
  },
  {
   "cell_type": "markdown",
   "metadata": {
    "colab_type": "text",
    "id": "vrj-kuMQbWgq"
   },
   "source": [
    "## Background\n",
    "\n",
    "The Wilson-Cowan equations model the mean-field (i.e., average across the population) dynamics of two coupled populations of excitatory (E) and inhibitory (I) neurons:\n",
    "\n",
    "\\begin{align}\n",
    "&\\tau_E \\frac{dE}{dt} = -E + (1 - r E) F(w_{EE}E -w_{EI}I + I_{ext};a,\\theta)\\\\\n",
    "&\\tau_I \\frac{dI}{dt} = -I + (1 - r I) F(w_{IE}E -w_{II}I;a,\\theta)\n",
    "\\end{align}\n",
    "\n",
    "$E(t)$ represents the average activation of the excitatory population, and $I(t)$ the activation of the inhibitory population. The parameters $\\tau_E$ and $\\tau_I$ control the timescales of each population. The connection strengths are given by: $w_{EE}$ (E to E), $w_{EI}$ (I to E), $w_{IE}$ (E to I), and $w_{II}$ (I to I). Refractory effects are modelled through the parameter $r$, and $I_{ext}$ represents external input to the excitatory population. \n",
    "\n",
    "\n",
    "\n",
    "The function F describes the population activation function. We assume F to be a sigmoidal function, which is parameterized by its gain $a$ and threshold $\\theta$.\n",
    "\n",
    "$$ F(x;a,\\theta) = \\frac{1}{1+\\exp\\{-a(x-\\theta)\\}} - \\frac{1}{1+\\exp\\{a\\theta\\}}$$\n",
    "\n",
    "The argument $x$ represents the input to the population. Note that the the second term is chosen so that $F(0;a,\\theta)=0$.\n",
    "\n",
    "To start, execute the cell below to initialise the simulation parameters."
   ]
  },
  {
   "cell_type": "code",
   "execution_count": 0,
   "metadata": {
    "colab": {
     "autoexec": {
      "startup": false,
      "wait_interval": 0
     }
    },
    "colab_type": "code",
    "id": "IjzkBDOubWgr"
   },
   "outputs": [],
   "source": [
    "dt = 0.1\n",
    "\n",
    "# Connection weights\n",
    "wEE = 12\n",
    "wEI = 4\n",
    "wIE = 13\n",
    "wII = 11\n",
    "\n",
    "# Refractory parameter\n",
    "r = 1\n",
    "\n",
    "# External input\n",
    "I_ext = 0\n",
    "\n",
    "# Excitatory parameters\n",
    "tau_E = 1       # Timescale of excitatory population\n",
    "a_E = 1.2       # Gain of excitatory population\n",
    "theta_E = 2.8   # Threshold of excitatory population\n",
    "\n",
    "# Inhibitory parameters\n",
    "tau_I = 1       # Timescale of inhibitory population\n",
    "a_I = 1         # Gain of inhibitory population\n",
    "theta_I = 4     # Threshold of inhibitory population"
   ]
  },
  {
   "cell_type": "markdown",
   "metadata": {
    "colab_type": "text",
    "id": "-bwsyFppbWgt"
   },
   "source": [
    "**EXERCISE 1** \n",
    "\n",
    "Fill in the function below to define the activation function F as a function of its input x, and arguments a, and $\\theta$. Verify your function by evaluating the excitatory activation function for $x = 0,3,6$. Then plot F for both E and I population parameters over $0 \\leq x \\leq 10$. "
   ]
  },
  {
   "cell_type": "code",
   "execution_count": 0,
   "metadata": {
    "colab": {
     "autoexec": {
      "startup": false,
      "wait_interval": 0
     }
    },
    "colab_type": "code",
    "id": "vV95DJ7HSux3"
   },
   "outputs": [],
   "source": [
    "def F(x,a,theta): \n",
    "    \"\"\"Population activation function.\n",
    "\n",
    "    Arguments:\n",
    "    x -- the population input\n",
    "    a -- the gain of the function\n",
    "    theta -- the threshold of the function\n",
    "    \n",
    "    Returns:\n",
    "    y -- the population activation response\n",
    "    \"\"\"\n",
    "    # insert your code here\n",
    "    \n",
    "    return y\n",
    "  \n",
    "# insert your code here"
   ]
  },
  {
   "cell_type": "markdown",
   "metadata": {
    "colab_type": "text",
    "id": "M79NVeesQlaI"
   },
   "source": [
    "**EXPECTED OUTPUT**\n",
    "\n",
    "```\n",
    "0.0\n",
    "0.5261444259857104\n",
    "0.9453894296980492\n",
    "```\n",
    "![](https://github.com/ccnss/ccnss2018_students/raw/master/module1/figures/T1E1.png)"
   ]
  },
  {
   "cell_type": "markdown",
   "metadata": {
    "colab_type": "text",
    "id": "2yrNXJIybWgy"
   },
   "source": [
    "**Exercise 2:** Fill in the function below to simulate the dynamics of the Wilson-Cowan equation for  up to $t_{max}=15$ with steps of $dt$. Remember from the LIF tutorial that we can numerically integrate the ODEs by replacing the derivatives with their discretized approximations:\n",
    "\n",
    "\\begin{align}\n",
    "&\\frac{dE}{dt} \\to \\frac{E[k+\\Delta t]-E[k]}{\\Delta t} \\hspace{5 mm}\\text{ and }\\hspace{5mm}\\frac{dI}{dt} \\to \\frac{I[k+\\Delta t]-I[k]}{\\Delta t}\\\\\n",
    "\\end{align}\n",
    "\n",
    "Then simulate the dynamics of the population starting from initial condition $E_0=I_0=0.2$ and plot the results. What is the steady state solution? Then, also plot the dynamics starting from $E_0=I_0=0.25$ and plot the solution (in dashed lines). Now what is the steady state solution?"
   ]
  },
  {
   "cell_type": "code",
   "execution_count": 0,
   "metadata": {
    "colab": {
     "autoexec": {
      "startup": false,
      "wait_interval": 0
     }
    },
    "colab_type": "code",
    "id": "lSWgVDrlUzOn"
   },
   "outputs": [],
   "source": [
    "def simulate_wc(t,E0,I0):\n",
    "    \"\"\"Simulate the Wilson-Cowan equations.\n",
    "   \n",
    "    Arguments:\n",
    "    t -- time (vector)\n",
    "    E0 -- initial condition weeof the excitatory population\n",
    "    I0 -- initial condition of the inhibitory population\n",
    "    \n",
    "    Returns:\n",
    "    E -- Activity of excitatory population (vector)\n",
    "    I -- Activity of inhibitory population (vector)\n",
    "    \"\"\"\n",
    "    # insert your code here\n",
    "    \n",
    "    return E,I\n",
    "\n",
    "# insert your code here"
   ]
  },
  {
   "cell_type": "markdown",
   "metadata": {
    "colab_type": "text",
    "id": "UPcE4xdqVElr"
   },
   "source": [
    "**EXPECTED OUTPUT**\n",
    "\n",
    "![](https://github.com/ccnss/ccnss2018_students/raw/master/module1/figures/T1E2.png)"
   ]
  },
  {
   "cell_type": "markdown",
   "metadata": {
    "colab_type": "text",
    "id": "T4-eiSSCbWg1"
   },
   "source": [
    "**Exercise 3:** Now use the same function to simulate the Wilson Cowan equations for different initial conditions from $0.01 \\leq E_0 \\leq 1$ and $0.01 \\leq I_0 \\leq 1$ with stepsize 0.1. For each initial condition, find the steady state value to which $E$ and $I$ converge. There are several ways to do this. A simple way to do this is to check, for each initial condition, that the last two points in the simulation are within 1% of each other:\n",
    "\n",
    "$$ \\frac{E(t_{max})-E(t_{max}-dt)}{E(t_{max})} \\leq 0.01 $$\n",
    "\n",
    "Use the following code within your for loops to throw an error in case the trajectories have not converged:\n",
    "``raise ValueError('Has not converged.')``\n",
    "\n",
    "Then you can just keep increasing $t_{max}$ until every initial condition converges. Plot the steady state values ($E$ vs. $I$)  What fixed points do you see?"
   ]
  },
  {
   "cell_type": "code",
   "execution_count": 0,
   "metadata": {
    "colab": {
     "autoexec": {
      "startup": false,
      "wait_interval": 0
     }
    },
    "colab_type": "code",
    "id": "WT8ZhrW5eDYU"
   },
   "outputs": [],
   "source": [
    "# insert your code here"
   ]
  },
  {
   "cell_type": "markdown",
   "metadata": {
    "colab_type": "text",
    "id": "7xeKqybCatOT"
   },
   "source": [
    "**EXPECTED OUTPUT**\n",
    "\n",
    "![](https://github.com/ccnss/ccnss2018_students/raw/master/module1/figures/T1E3.png)"
   ]
  },
  {
   "cell_type": "markdown",
   "metadata": {
    "colab_type": "text",
    "id": "cgiP1SJKbWg6"
   },
   "source": [
    "**Exercise 4**: To make the phase plane plot, we first need to determine the inverse of F. To calculate the inverse, set y = F(x), and then solve for x. Then, fill out the function below to define the inverse activation function $F^{-1}$. Check that this is the correct inverse function by testing $F^{-1}$ for $x=0,0.5,0.9$, and then plotting x against $F^{-1}(F(x))$ for $0\\leq x\\leq1$ (use the excitatory population parameters)."
   ]
  },
  {
   "cell_type": "code",
   "execution_count": 0,
   "metadata": {
    "colab": {
     "autoexec": {
      "startup": false,
      "wait_interval": 0
     }
    },
    "colab_type": "code",
    "id": "GAmeU929fQ_d"
   },
   "outputs": [],
   "source": [
    "def F_inv(x,a,theta): \n",
    "    \"\"\"Define the inverse of the population activation function.\n",
    "\n",
    "    Arguments:\n",
    "    x -- the population input\n",
    "    a -- the gain of the function\n",
    "    theta -- the threshold of the function\n",
    "    \n",
    "    Returns:\n",
    "    y -- value of the inverse function\n",
    "    \"\"\"\n",
    "    # insert your code here\n",
    "    \n",
    "    return y\n",
    "  \n",
    "# insert your code here"
   ]
  },
  {
   "cell_type": "markdown",
   "metadata": {
    "colab_type": "text",
    "id": "oZ5sSDgAdu87"
   },
   "source": [
    "**EXPECTED OUTPUT**\n",
    "\n",
    "```\n",
    "0.0\n",
    "2.9120659956266\n",
    "5.002378884081663\n",
    "```\n",
    "![](https://github.com/ccnss/ccnss2018_students/raw/master/module1/figures/T1E4.png)\n",
    "\n"
   ]
  },
  {
   "cell_type": "markdown",
   "metadata": {
    "colab_type": "text",
    "id": "WFtmR-6ZbWg-"
   },
   "source": [
    "**Exercise 5:** Now, derive the E and I nullclines, in terms of the inverse function $F^{-1}$. To do this, set $\\frac{dE}{dt}=0$ and solve for $I$, then set $\\frac{dI}{dt}=0$ and solve for $E$. Then, fill out the two functions below to calculate the I nullcline (over $-0.01 \\leq I \\leq 0.3$) and E nullcline (over $-0.01 \\leq E \\leq 0.48$). First test the value of the I nullcline for $I=0.1$, then test the E nullcline for $E=0.1$. Then use these functions to plot the nullclines in phase space (E vs. I). What fixed points do you see? Compare the intersections of the nullclines with the steady state values you observed numerically in Exercise 3.\n"
   ]
  },
  {
   "cell_type": "code",
   "execution_count": 0,
   "metadata": {
    "colab": {
     "autoexec": {
      "startup": false,
      "wait_interval": 0
     }
    },
    "colab_type": "code",
    "id": "RIq3rCcMiQZ2"
   },
   "outputs": [],
   "source": [
    "def get_E_nullcline(E):\n",
    "    \"\"\"Solve for I along the E nullcline (dE/dt = 0).\n",
    "   \n",
    "    Arguments:\n",
    "    E -- values of E over which the nullcline is computed\n",
    "    \n",
    "    Returns:\n",
    "    I -- values of I along the nullcline for each E\n",
    "    \"\"\"\n",
    "    # insert your code here\n",
    "    \n",
    "    return I\n",
    "  \n",
    "  \n",
    "def get_I_nullcline(I):\n",
    "    \"\"\"Solve for E along the I nullcline (dI/dt = 0).\n",
    "   \n",
    "    Arguments:\n",
    "    I -- values of I over which the nullcline is computed\n",
    "    \n",
    "    Returns:\n",
    "    E -- values of E along the nullcline for each I\n",
    "    \"\"\"\n",
    "    # insert your code here\n",
    "    \n",
    "    return E\n",
    "\n",
    "# insert your code here"
   ]
  },
  {
   "cell_type": "markdown",
   "metadata": {
    "colab_type": "text",
    "id": "op1XBT2nd2-o"
   },
   "source": [
    "**EXPECTED OUTPUT**\n",
    "```\n",
    "0.24546433162390224\n",
    "-0.029802383619274175\n",
    "```\n",
    "\n",
    "![](https://github.com/ccnss/ccnss2018_students/raw/master/module1/figures/T1E5.png)"
   ]
  },
  {
   "cell_type": "markdown",
   "metadata": {
    "colab_type": "text",
    "id": "I5kMzrGKbWhC"
   },
   "source": [
    "**Exercise 6:** Now, on top of the nullclines, plot some sample trajectories starting with different initial conditions, for $0 \\leq E_0 \\leq 1$ and $0 \\leq I_0 \\leq 1$. How many attractors do you see?"
   ]
  },
  {
   "cell_type": "code",
   "execution_count": 0,
   "metadata": {
    "colab": {
     "autoexec": {
      "startup": false,
      "wait_interval": 0
     }
    },
    "colab_type": "code",
    "id": "hF-AGDtojEOC"
   },
   "outputs": [],
   "source": [
    "# insert your code here"
   ]
  },
  {
   "cell_type": "markdown",
   "metadata": {
    "colab_type": "text",
    "id": "6YuW8b_yd43s"
   },
   "source": [
    "**EXPECTED OUTPUT**\n",
    "\n",
    "![](https://github.com/ccnss/ccnss2018_students/raw/master/module1/figures/T1E6.png)"
   ]
  },
  {
   "cell_type": "markdown",
   "metadata": {
    "colab_type": "text",
    "id": "kJjtMK8TbWhG"
   },
   "source": [
    "**Exercise 7:** Repeat the previous exercise while varying the recurrent excitatory connectivity over the following values: $w_{EE}=5,10,12,15$. What is happening? Can you find a value of wEE where a qualitative transformation occurs? What does this tell you about how increasing recurrent connectivity affects the dynamics? "
   ]
  },
  {
   "cell_type": "code",
   "execution_count": 0,
   "metadata": {
    "colab": {
     "autoexec": {
      "startup": false,
      "wait_interval": 0
     }
    },
    "colab_type": "code",
    "id": "wE63frPAjig6"
   },
   "outputs": [],
   "source": [
    "# insert your code here"
   ]
  },
  {
   "cell_type": "markdown",
   "metadata": {
    "colab_type": "text",
    "id": "YjCtkDVXd7OS"
   },
   "source": [
    "**EXPECTED OUTPUT**\n",
    "\n",
    "![](https://github.com/ccnss/ccnss2018_students/raw/master/module1/figures/T1E7a.png)\n",
    "![](https://github.com/ccnss/ccnss2018_students/raw/master/module1/figures/T1E7b.png)\n",
    "![](https://github.com/ccnss/ccnss2018_students/raw/master/module1/figures/T1E7c.png)\n",
    "![](https://github.com/ccnss/ccnss2018_students/raw/master/module1/figures/T1E7d.png)"
   ]
  }
 ],
 "metadata": {
  "colab": {
   "collapsed_sections": [],
   "default_view": {},
   "name": "1_Wilson-Cowan equations",
   "provenance": [
    {
     "file_id": "1q5ty39Csy4hE5D-8FoijkiafGqHBHw-2",
     "timestamp": 1526851286755
    }
   ],
   "version": "0.3.2",
   "views": {}
  },
  "kernelspec": {
   "display_name": "Python 3",
   "language": "python",
   "name": "python3"
  },
  "language_info": {
   "codemirror_mode": {
    "name": "ipython",
    "version": 3
   },
   "file_extension": ".py",
   "mimetype": "text/x-python",
   "name": "python",
   "nbconvert_exporter": "python",
   "pygments_lexer": "ipython3",
   "version": "3.6.4"
  }
 },
 "nbformat": 4,
 "nbformat_minor": 1
}
